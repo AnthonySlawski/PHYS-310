{
 "cells": [
  {
   "cell_type": "code",
   "execution_count": 1,
   "id": "f52cefa0",
   "metadata": {},
   "outputs": [],
   "source": [
    "import os\n",
    "import glob\n",
    "from setuptools import setup, find_packages, Extension\n",
    "from Cython.Distutils import build_ext\n",
    "from numpy import get_include\n",
    "\n"
   ]
  },
  {
   "cell_type": "code",
   "execution_count": 3,
   "id": "d8410e36",
   "metadata": {},
   "outputs": [
    {
     "ename": "NameError",
     "evalue": "name 'python' is not defined",
     "output_type": "error",
     "traceback": [
      "\u001b[1;31m---------------------------------------------------------------------------\u001b[0m",
      "\u001b[1;31mNameError\u001b[0m                                 Traceback (most recent call last)",
      "Input \u001b[1;32mIn [3]\u001b[0m, in \u001b[0;36m<cell line: 1>\u001b[1;34m()\u001b[0m\n\u001b[1;32m----> 1\u001b[0m \u001b[43mpython\u001b[49m \u001b[38;5;241m-\u001b[39m\u001b[38;5;241m-\u001b[39mversion\n",
      "\u001b[1;31mNameError\u001b[0m: name 'python' is not defined"
     ]
    }
   ],
   "source": [
    "python --version"
   ]
  },
  {
   "cell_type": "code",
   "execution_count": 2,
   "id": "bbd6acb5",
   "metadata": {},
   "outputs": [
    {
     "ename": "FileNotFoundError",
     "evalue": "[Errno 2] No such file or directory: 'README.rst'",
     "output_type": "error",
     "traceback": [
      "\u001b[1;31m---------------------------------------------------------------------------\u001b[0m",
      "\u001b[1;31mFileNotFoundError\u001b[0m                         Traceback (most recent call last)",
      "Input \u001b[1;32mIn [2]\u001b[0m, in \u001b[0;36m<cell line: 1>\u001b[1;34m()\u001b[0m\n\u001b[1;32m----> 1\u001b[0m \u001b[38;5;28;01mwith\u001b[39;00m \u001b[38;5;28;43mopen\u001b[39;49m\u001b[43m(\u001b[49m\u001b[38;5;124;43m\"\u001b[39;49m\u001b[38;5;124;43mREADME.rst\u001b[39;49m\u001b[38;5;124;43m\"\u001b[39;49m\u001b[43m)\u001b[49m \u001b[38;5;28;01mas\u001b[39;00m f:\n\u001b[0;32m      2\u001b[0m     long_desc \u001b[38;5;241m=\u001b[39m f\u001b[38;5;241m.\u001b[39mread()\n\u001b[0;32m      3\u001b[0m     ind \u001b[38;5;241m=\u001b[39m long_desc\u001b[38;5;241m.\u001b[39mfind(\u001b[38;5;124m\"\u001b[39m\u001b[38;5;130;01m\\n\u001b[39;00m\u001b[38;5;124m\"\u001b[39m)\n",
      "\u001b[1;31mFileNotFoundError\u001b[0m: [Errno 2] No such file or directory: 'README.rst'"
     ]
    }
   ],
   "source": [
    "with open(\"README.rst\") as f:\n",
    "    long_desc = f.read()\n",
    "    ind = long_desc.find(\"\\n\")\n",
    "    long_desc = long_desc[ind + 1:]\n",
    "\n",
    "ext_symmfunc = Extension(\n",
    "   \"aenet.core\",\n",
    "    [os.path.join(\"aenet\", \"core.pyx\")],\n",
    "    extra_compile_args=[\n",
    "        '-I' + os.path.join(os.path.pardir, 'src'),\n",
    "        '-I' + os.path.join(os.path.curdir, 'aenet'),\n",
    "        '-fPIC', '-O2'],\n",
    "    extra_objects = \\\n",
    "       glob.glob(os.path.join(os.path.pardir,\"lib\",\"Lbfgsb.*\",\"*_pic.o\")) \\\n",
    "     + glob.glob(os.path.join(os.path.pardir,\"src\",\"*_pic.o\")),\n",
    "    libraries = ['lapack', 'blas', 'gfortran']\n",
    ")\n",
    "\n",
    "setup(\n",
    "    cmdclass={'build_ext': build_ext},\n",
    "    name=\"aenet\",\n",
    "    packages=find_packages(),\n",
    "    version=\"0.1.0a1\",\n",
    "    install_requires=[\"numpy>=1.5\"],\n",
    "    author=\"Nongnuch Artrith, Alexander Urban\",\n",
    "    author_email=\"nartrith@atomistic.net, aurban@atomistic.net\",\n",
    "    maintainer=\"Nongnuch Artrith, Alexander Urban\",\n",
    "    url=\"http://aenet.atomistic.net\",\n",
    "    license=\"GNU GPL\",\n",
    "    description=\"Artificial Neural Network Potentials\",\n",
    "    long_description=long_desc,\n",
    "    keywords=[],\n",
    "    classifiers=[\n",
    "        \"Programming Language :: Python :: 2.7\",\n",
    "        \"Development Status :: 5 - Production/Stable\",\n",
    "        \"Intended Audience :: Science/Research\",\n",
    "        \"License :: OSI Approved :: GNU GPL\",\n",
    "        \"Operating System :: OS Independent\",\n",
    "        \"Topic :: Scientific/Engineering :: Physics\",\n",
    "        \"Topic :: Scientific/Engineering :: Chemistry\"\n",
    "    ],\n",
    "    include_dirs=[get_include()],\n",
    "    ext_modules=[ext_symmfunc],\n",
    "    scripts=glob.glob(os.path.join(\"scripts\", \"*.py\"))\n",
    ")\n"
   ]
  },
  {
   "cell_type": "code",
   "execution_count": null,
   "id": "52d241d5",
   "metadata": {},
   "outputs": [],
   "source": []
  }
 ],
 "metadata": {
  "kernelspec": {
   "display_name": "Python 3 (ipykernel)",
   "language": "python",
   "name": "python3"
  },
  "language_info": {
   "codemirror_mode": {
    "name": "ipython",
    "version": 3
   },
   "file_extension": ".py",
   "mimetype": "text/x-python",
   "name": "python",
   "nbconvert_exporter": "python",
   "pygments_lexer": "ipython3",
   "version": "3.9.12"
  }
 },
 "nbformat": 4,
 "nbformat_minor": 5
}
