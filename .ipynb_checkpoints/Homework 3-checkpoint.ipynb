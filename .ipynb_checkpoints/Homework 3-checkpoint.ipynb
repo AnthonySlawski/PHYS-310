{
 "cells": [
  {
   "cell_type": "markdown",
   "metadata": {
    "id": "ZElDfnRK8C8s"
   },
   "source": [
    "## Homework 3 - Welcome to the world of variable stars!\n",
    "\n",
    "Modified from (Viviana Acquaviva (2023)) License: BSD-3-clause"
   ]
  },
  {
   "cell_type": "markdown",
   "metadata": {
    "id": "nJATq40R8C81"
   },
   "source": [
    "#### Data description\n",
    "\n",
    "The data we use for this homework are about stars. Our features are the so-called \"colors\", which give an indication of whether a star emits more blue, green, yellow, or red light. We are trying to predict whether a star is a special type of star called a RR-Lyrae variable star. So our target values will be yes/no (1/0 in the language of numpy arrays)."
   ]
  },
  {
   "cell_type": "code",
   "execution_count": 240,
   "metadata": {},
   "outputs": [],
   "source": [
    "import numpy as np\n",
    "import matplotlib.pyplot as plt\n",
    "import matplotlib.patches as patches\n",
    "import pandas as pd\n",
    "from sklearn.neighbors import KNeighborsClassifier\n",
    "from sklearn.metrics import accuracy_score\n",
    "from sklearn.tree import DecisionTreeClassifier\n",
    "from sklearn.datasets import load_iris\n",
    "from sklearn.inspection import DecisionBoundaryDisplay\n",
    "from scipy.stats import zscore\n",
    "from sklearn.model_selection import train_test_split\n",
    "from sklearn.preprocessing import RobustScaler\n",
    "from sklearn.neighbors import KNeighborsClassifier\n",
    "from sklearn.pipeline import Pipeline\n",
    "from sklearn.metrics import accuracy_score, precision_score, recall_score\n",
    "from sklearn.model_selection import cross_val_score, StratifiedKFold\n",
    "from sklearn.metrics import make_scorer\n",
    "from sklearn.model_selection import cross_val_predict\n",
    "from sklearn.metrics import confusion_matrix, ConfusionMatrixDisplay\n",
    "from sklearn.model_selection import learning_curve\n",
    "from sklearn.model_selection import cross_validate\n",
    "\n",
    "plt.rc('font', size=12)\n",
    "plt.rc('axes', titlesize=16)\n",
    "plt.rc('axes', labelsize=14)\n",
    "plt.rc('xtick', labelsize=12)\n",
    "plt.rc('ytick', labelsize=12)\n",
    "plt.rc('legend', fontsize=12)\n",
    "plt.rc('figure', titlesize=18)\n",
    "plt.rc('figure',figsize=(8,6))"
   ]
  },
  {
   "cell_type": "markdown",
   "metadata": {
    "id": "5MO7-vVC8C82"
   },
   "source": [
    "1\\. Load the data for features and target from the appropriate files and save them as numpy arrays. (note: the default delimiter won't work, these are comma separated values!)"
   ]
  },
  {
   "cell_type": "code",
   "execution_count": 241,
   "metadata": {},
   "outputs": [],
   "source": [
    "features=np.loadtxt('RRLyrae_features_small.txt',delimiter=',')\n",
    "target=np.loadtxt('RRLyrae_labels_small.txt',delimiter=',')"
   ]
  },
  {
   "cell_type": "code",
   "execution_count": 242,
   "metadata": {},
   "outputs": [
    {
     "data": {
      "text/plain": [
       "array([[ 0.311,  0.714,  0.093,  0.204],\n",
       "       [ 0.332,  0.965,  0.122,  0.032],\n",
       "       [ 0.394,  1.019,  0.147,  0.096],\n",
       "       ...,\n",
       "       [ 0.212,  1.044,  0.035,  0.002],\n",
       "       [ 0.172,  1.065,  0.042,  0.003],\n",
       "       [ 0.065,  1.126, -0.017, -0.058]])"
      ]
     },
     "execution_count": 242,
     "metadata": {},
     "output_type": "execute_result"
    }
   ],
   "source": [
    "features"
   ]
  },
  {
   "cell_type": "code",
   "execution_count": 243,
   "metadata": {},
   "outputs": [
    {
     "data": {
      "text/plain": [
       "array([0., 0., 0., ..., 1., 1., 1.])"
      ]
     },
     "execution_count": 243,
     "metadata": {},
     "output_type": "execute_result"
    }
   ],
   "source": [
    "target"
   ]
  },
  {
   "cell_type": "code",
   "execution_count": 244,
   "metadata": {},
   "outputs": [
    {
     "name": "stdout",
     "output_type": "stream",
     "text": [
      "Features data type: float64\n",
      "Target data type: float64\n"
     ]
    }
   ],
   "source": [
    "print(\"Features data type:\",features.dtype)\n",
    "print(\"Target data type:\",target.dtype)"
   ]
  },
  {
   "cell_type": "code",
   "execution_count": 245,
   "metadata": {},
   "outputs": [
    {
     "name": "stdout",
     "output_type": "stream",
     "text": [
      "[0 0 0 ... 1 1 1]\n"
     ]
    }
   ],
   "source": [
    "target=target.astype(np.int64)\n",
    "print(target)"
   ]
  },
  {
   "cell_type": "markdown",
   "metadata": {
    "id": "YAkS8pPw8C83"
   },
   "source": [
    "2\\. Answer the following questions:\n",
    "\n",
    "Is this a classification or regression problem?\n",
    "\n",
    "Is this supervised or unsupervised learning?\n",
    "\n",
    "How many instances are in this data set? \n",
    "\n",
    "How many features? \n",
    "\n",
    "How many RR Lyrae stars (i.e., examples of the positive class) are in the data set? \n",
    "\n",
    "What would be the accuracy of a classifier that classifies all objects in the data set as non-RR Lyrae?\n"
   ]
  },
  {
   "cell_type": "markdown",
   "metadata": {},
   "source": [
    "#### This is a classification problem. We are trying to predict whether or not a star is a RR-Lyrae variable star, which involves assigning a label 1 (yes) or 0 (no) to each instance.\n",
    "\n",
    "#### This is supervised learning since the colors (features) are used to predict whether or not the star is a RR-Lyrae variable star (label)."
   ]
  },
  {
   "cell_type": "code",
   "execution_count": 246,
   "metadata": {},
   "outputs": [
    {
     "name": "stdout",
     "output_type": "stream",
     "text": [
      "There are: 2483 instances\n",
      "There are: 4 features\n",
      "There are: 483 RR Lyrae stars\n",
      "A lazy classifier would have an accuracy of 0.805 \n"
     ]
    }
   ],
   "source": [
    "print('There are:',features.shape[0],'instances')\n",
    "print('There are:',features.shape[1],'features')\n",
    "print('There are:',sum(target==1),'RR Lyrae stars')\n",
    "print('A lazy classifier would have an accuracy of %.3f ' % (sum(target==0)/len(target)))"
   ]
  },
  {
   "cell_type": "markdown",
   "metadata": {
    "id": "zNQZqNS88C83"
   },
   "source": [
    "3\\. Use a Decision Tree Classifier, and implement k-fold cross validation algorithm."
   ]
  },
  {
   "cell_type": "markdown",
   "metadata": {},
   "source": [
    "#### I will use Stratified k-fold cross-validation since the class distribution is imbalanced, as there are only 483 RR-Lyrae variable stars in a dataset with 2483 instances."
   ]
  },
  {
   "cell_type": "code",
   "execution_count": 247,
   "metadata": {},
   "outputs": [],
   "source": [
    "dt_model = DecisionTreeClassifier()\n",
    "\n",
    "cv=StratifiedKFold()\n",
    "\n",
    "scores=cross_validate(dt_model, features, target)"
   ]
  },
  {
   "cell_type": "markdown",
   "metadata": {
    "id": "LC-LrvgH8C86"
   },
   "source": [
    "4\\. Report the scores, and calculate the mean and standard deviation of the scores vector. "
   ]
  },
  {
   "cell_type": "code",
   "execution_count": 248,
   "metadata": {},
   "outputs": [
    {
     "name": "stdout",
     "output_type": "stream",
     "text": [
      "Score for fold 1 : 0.954\n",
      "Score for fold 2 : 0.974\n",
      "Score for fold 3 : 0.962\n",
      "Score for fold 4 : 0.982\n",
      "Score for fold 5 : 0.964\n",
      "\n",
      "Mean score: 0.967\n",
      "Standard deviation of score: 0.010\n"
     ]
    }
   ],
   "source": [
    "i=1\n",
    "for score in scores['test_score']:\n",
    "    print('Score for fold %.0f : %.3f'%(i,score))\n",
    "    i+=1\n",
    "\n",
    "print('\\nMean score: %.3f' % np.mean(scores['test_score']))\n",
    "print('Standard deviation of score: %.3f' % np.std(scores['test_score']))"
   ]
  },
  {
   "cell_type": "markdown",
   "metadata": {
    "id": "_svBXKhZ8C86"
   },
   "source": [
    "5\\. As in lab 5-6, compute the confusion matrix for your model. To generate the predictions, you can use the \"cross_val_predict\" function. Please write your own code before using any scikit learn builtin functions, but you can use ConfusionMatrixDisplay to visualize."
   ]
  },
  {
   "cell_type": "code",
   "execution_count": 249,
   "metadata": {},
   "outputs": [
    {
     "data": {
      "text/plain": [
       "<sklearn.metrics._plot.confusion_matrix.ConfusionMatrixDisplay at 0x18d437d8d60>"
      ]
     },
     "execution_count": 249,
     "metadata": {},
     "output_type": "execute_result"
    },
    {
     "data": {
      "image/png": "[encoded data removed]",
      "text/plain": [
       "<Figure size 576x432 with 2 Axes>"
      ]
     },
     "metadata": {
      "needs_background": "light"
     },
     "output_type": "display_data"
    }
   ],
   "source": [
    "def my_confusion_matrix(y_true, y_pred):\n",
    "    mat=np.zeros((2,2))\n",
    "    mat[1,1] = int(np.sum((y_true == 1) & (y_pred == 1)))\n",
    "    mat[0,0] = int(np.sum((y_true == 0) & (y_pred == 0)))\n",
    "    mat[0,1] = int(np.sum((y_true == 0) & (y_pred == 1)))\n",
    "    mat[1,0] = int(np.sum((y_true == 1) & (y_pred == 0)))\n",
    "    return mat\n",
    "\n",
    "dt_model=DecisionTreeClassifier()\n",
    "y_pred=cross_val_predict(dt_model,features,target,cv=cv)\n",
    "\n",
    "my_confusion=my_confusion_matrix(target,y_pred)\n",
    "\n",
    "ConfusionMatrixDisplay(my_confusion).plot(cmap=plt.cm.Blues)"
   ]
  },
  {
   "cell_type": "markdown",
   "metadata": {
    "id": "nFbAYoj38C88"
   },
   "source": [
    "6\\. Based on the confusion matrix, how many true positive, true negative, false positive, false negative instances do you have?"
   ]
  },
  {
   "cell_type": "code",
   "execution_count": 250,
   "metadata": {},
   "outputs": [
    {
     "name": "stdout",
     "output_type": "stream",
     "text": [
      "441.0 true positives, 44.0 false positives, 42.0 false negatives, 1956.0 true negatives.\n"
     ]
    }
   ],
   "source": [
    "tn,fp,fn,tp=my_confusion[0,0],my_confusion[0,1],my_confusion[1,0],my_confusion[1,1]\n",
    "print(tp,'true positives,',fp,'false positives,',fn,'false negatives,',tn,'true negatives.')"
   ]
  },
  {
   "cell_type": "markdown",
   "metadata": {
    "id": "dAFpsEn18C89"
   },
   "source": [
    "7\\. Calculate accuracy, precision and recall. Plese write out your steps and do not use built-in functions. "
   ]
  },
  {
   "cell_type": "code",
   "execution_count": 251,
   "metadata": {},
   "outputs": [
    {
     "name": "stdout",
     "output_type": "stream",
     "text": [
      "Accuracy is: 0.965, precision is: 0.909, recall is: 0.913\n"
     ]
    }
   ],
   "source": [
    "acc=(tn+tp)/(tn+fp+tp+fn)\n",
    "prec=(tp)/(tp+fp)\n",
    "rec=(tp)/(tp+fn)\n",
    "print('Accuracy is: %.3f, precision is: %.3f, recall is: %.3f' % (acc,prec,rec))"
   ]
  },
  {
   "cell_type": "markdown",
   "metadata": {
    "id": "6grNjKT_8C89"
   },
   "source": [
    "8\\. Which evaluation metric is used by the cross validation score in 4.? [To answer this question, you might need to check out the description of the function]. Given the distribution of classes in your data set, do you see a possible issue?"
   ]
  },
  {
   "cell_type": "markdown",
   "metadata": {},
   "source": [
    "#### Accuracy is used, this is an issue here since as mentioned in part 3, the class distribution here is imbalanced, hence a 'lazy' classifier could have high accuracy even though it will always predict the majority class, providing little value in terms of identifying the minority class."
   ]
  },
  {
   "cell_type": "markdown",
   "metadata": {
    "id": "9QMBoPHx8C8-"
   },
   "source": [
    "9\\. To compare performance for now, let's use the F1 score, a weighted average of precision and recall.\n",
    "\n",
    "F1 = 2 * (precision * recall) / (precision + recall)\n",
    "\n",
    "Find out how to use the f1 score (instead of accuracy) as an optional argument of the cross_validate function and report the mean and standard deviation of the scores associated to this evaluation metric.\n"
   ]
  },
  {
   "cell_type": "code",
   "execution_count": 252,
   "metadata": {},
   "outputs": [
    {
     "name": "stdout",
     "output_type": "stream",
     "text": [
      "F1 score for fold 1 : 0.883\n",
      "F1 score for fold 1 : 0.939\n",
      "F1 score for fold 1 : 0.894\n",
      "F1 score for fold 1 : 0.960\n",
      "F1 score for fold 1 : 0.903\n",
      "\n",
      "Mean F1 score: 0.916\n",
      "\n",
      "Standard deviation of F1 score: 0.029\n"
     ]
    }
   ],
   "source": [
    "scores=cross_validate(dt_model, features, target)\n",
    "f1_scores=cross_validate(dt_model,features,target,cv=cv,scoring='f1',return_train_score=True)\n",
    "\n",
    "i=1\n",
    "for te_score in f1_scores['test_score']:\n",
    "    print('F1 score for fold %.0f : %.3f'%(i,te_score))\n",
    "\n",
    "print('\\nMean F1 score: %.3f' % np.mean(f1_scores['test_score']))\n",
    "print('\\nStandard deviation of F1 score: %.3f' % np.std(f1_scores['test_score']))"
   ]
  },
  {
   "cell_type": "markdown",
   "metadata": {
    "id": "WPTpUvuW8C8_"
   },
   "source": [
    "10\\. It is now time to look at some diagnostics. Use the cross_validate function with 'return_train_score = True'. Compare the f1 train and test scores obtained by your model. Based on this result, do you think your algorithm suffers from high variance or high bias and why?"
   ]
  },
  {
   "cell_type": "code",
   "execution_count": 253,
   "metadata": {},
   "outputs": [
    {
     "name": "stdout",
     "output_type": "stream",
     "text": [
      "Test score for fold 1 : 0.877 and train score 1.000\n",
      "Test score for fold 1 : 0.935 and train score 1.000\n",
      "Test score for fold 1 : 0.899 and train score 1.000\n",
      "Test score for fold 1 : 0.954 and train score 1.000\n",
      "Test score for fold 1 : 0.882 and train score 1.000\n",
      "\n",
      "Mean test score: 0.909\n",
      "Mean train score: 1.000\n",
      "\n",
      "Standard deviation of test score: 0.030\n",
      "Standard deviation of train score: 0.000\n"
     ]
    }
   ],
   "source": [
    "scores=cross_validate(dt_model, features, target)\n",
    "f1_scores=cross_validate(dt_model,features,target,cv=cv,scoring='f1',return_train_score=True)\n",
    "\n",
    "i=1\n",
    "for te_score,tr_score in zip(f1_scores['test_score'],f1_scores['train_score']):\n",
    "    print('Test score for fold %.0f : %.3f and train score %.3f'%(i,te_score,tr_score))\n",
    "\n",
    "print('\\nMean test score: %.3f' % np.mean(f1_scores['test_score']))\n",
    "print('Mean train score: %.3f' % np.mean(f1_scores['train_score']))\n",
    "\n",
    "print('\\nStandard deviation of test score: %.3f' % np.std(f1_scores['test_score']))\n",
    "print('Standard deviation of train score: %.3f' % np.std(f1_scores['train_score']))"
   ]
  },
  {
   "cell_type": "markdown",
   "metadata": {},
   "source": [
    "#### The model appears to suffer from high variance, or overfitting, since it fits the training data too closely (perfectly in this case), while the test data has a lower score. The test scores are still high regardless, indicating low bias."
   ]
  },
  {
   "cell_type": "markdown",
   "metadata": {
    "id": "Wf-qnDUn8C8_"
   },
   "source": [
    "11\\. Finally, we can look at learning curves as in lab 5-6.  Based on what you see in the plot, do you think getting more training data would help? Justify your answer.\n",
    "\n"
   ]
  },
  {
   "cell_type": "code",
   "execution_count": 254,
   "metadata": {
    "scrolled": false
   },
   "outputs": [
    {
     "data": {
      "image/png": "[encoded data removed]",
      "text/plain": [
       "<Figure size 576x432 with 1 Axes>"
      ]
     },
     "metadata": {
      "needs_background": "light"
     },
     "output_type": "display_data"
    }
   ],
   "source": [
    "train_sizes,train_scores,test_scores=learning_curve(dt_model,features,target,cv=cv)\n",
    "\n",
    "test_mean=np.mean(test_scores,axis=1)\n",
    "train_mean=np.mean(train_scores,axis=1)\n",
    "test_std=np.std(test_scores,axis=1)\n",
    "train_std=np.std(train_scores,axis=1)\n",
    "\n",
    "plt.plot(train_sizes,train_mean,label='Training Score',c='r',marker='o')\n",
    "plt.plot(train_sizes,test_mean,label='Test Score',c='g',marker='o')\n",
    "plt.fill_between(train_sizes,test_mean-test_std,test_mean+test_std,color='green',alpha=0.2)\n",
    "plt.fill_between(train_sizes,train_mean-train_std,train_mean+train_std,color='red',alpha=0.2)\n",
    "\n",
    "\n",
    "plt.xlabel('Training Set Size')\n",
    "plt.ylabel('Score')\n",
    "plt.title('Learning Curves')\n",
    "plt.legend()\n",
    "plt.grid(True)\n"
   ]
  },
  {
   "cell_type": "markdown",
   "metadata": {},
   "source": [
    "#### Both give high scores however the training score is higher than the test score, which suggests a level of overfitting. Getting more training data could help here due to the overfitting, this can be seen since the test score improves with increasing training set size (above ~1,500 instances)."
   ]
  }
 ],
 "metadata": {
  "colab": {
   "provenance": []
  },
  "kernelspec": {
   "display_name": "Python 3 (ipykernel)",
   "language": "python",
   "name": "python3"
  },
  "language_info": {
   "codemirror_mode": {
    "name": "ipython",
    "version": 3
   },
   "file_extension": ".py",
   "mimetype": "text/x-python",
   "name": "python",
   "nbconvert_exporter": "python",
   "pygments_lexer": "ipython3",
   "version": "3.9.12"
  }
 },
 "nbformat": 4,
 "nbformat_minor": 1
}
