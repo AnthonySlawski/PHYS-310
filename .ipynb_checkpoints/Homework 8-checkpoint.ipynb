{
 "cells": [
  {
   "cell_type": "markdown",
   "metadata": {
    "id": "TIb7AW-J_Q0j"
   },
   "source": [
    "# Homework 8 - Hyperparameter optimization with keras tuner and CV with scikeras\n",
    "\n",
    "In this notebook, we use the photometric redshift problem to explore some hyperparameter optimization strategies for neural networks. We also take a look at CV with the scikeras wrapper.\n",
    "\n",
    "You might need to add keras tuner and scikeras to your tensorflow environment.\n",
    "\n",
    "*Modified from: Copyright: Viviana Acquaviva (2023). License: [BSD-3-clause](https://opensource.org/license/bsd-3-clause/)*"
   ]
  },
  {
   "cell_type": "code",
   "execution_count": 34,
   "metadata": {
    "id": "wCi2a2GB_Q0m"
   },
   "outputs": [],
   "source": [
    "import numpy as np\n",
    "import pandas as pd\n",
    "import matplotlib\n",
    "import matplotlib.pyplot as plt\n",
    "from scipy import stats\n",
    "from sklearn.model_selection import train_test_split\n",
    "from sklearn.model_selection import cross_validate, KFold\n",
    "from sklearn.utils import shuffle\n",
    "from sklearn.preprocessing import StandardScaler\n",
    "from sklearn.pipeline import make_pipeline\n",
    "from scikeras.wrappers import KerasRegressor\n",
    "\n",
    "import tensorflow as tf\n",
    "import keras\n",
    "\n",
    "from keras.models import Sequential #the model is built adding layers one after the other\n",
    "from keras.layers import Dense #fully connected layers: every output talks to every input\n",
    "from keras.layers import Dropout #for regularization\n",
    "\n",
    "# this is for the keras tuner\n",
    "from keras_tuner.tuners import RandomSearch\n",
    "from tensorflow.keras import layers\n",
    "from tensorflow.keras.layers import Input\n",
    "from tensorflow.keras.optimizers import Adam"
   ]
  },
  {
   "cell_type": "markdown",
   "metadata": {
    "id": "T6-Ir38f_Q05"
   },
   "source": [
    "Let us begin with the reduced (high-quality) data set we used for Bagging and Boosting methods. For reference, our best model achieved an outlier fraction of 4%.\n",
    "\n",
    "Read in 'sel_features.csv' and 'sel_target.csv' as X and y, respectively. You will need to shuffle X and y (use random_state=12) as we did in the previous notebook, and create a train/val/test split."
   ]
  },
  {
   "cell_type": "code",
   "execution_count": 36,
   "metadata": {},
   "outputs": [],
   "source": [
    "X = pd.read_csv('sel_features.csv', sep='\\t')\n",
    "y = pd.read_csv('sel_target.csv', sep='\\t')\n",
    "\n",
    "X, y = shuffle(X, y, random_state=12) #seed to 12 for same 'random' results\n",
    "\n",
    "# First split: 60% for training, 40% for the combination of validation and testing\n",
    "X_train, X_temp, y_train, y_temp = train_test_split(X, y, test_size=0.4, random_state=12)\n",
    "\n",
    "# Second split: Split the temporary set into 50% validation, 50% test (20% of the original dataset each)\n",
    "X_val, X_test, y_val, y_test = train_test_split(X_temp, y_temp, test_size=0.5, random_state=12)"
   ]
  },
  {
   "cell_type": "markdown",
   "metadata": {},
   "source": [
    "## Part 1: Hyperparameter search with keras tuner\n",
    "\n",
    "Keras tuner is a useful tool to explore different network configurations. Starting from the model we used in Lab 20, see if we can improve the choice of hyperparameters. There are many possibilities, but let's focus for now on the number and size of layers. We could start by varying the number of layers between 1-3 and the number of neurons from 50 to 200, in intervals of 50. The default learning rate is 0.001; we could check if 0.01 or 0.0001 might be better.\n",
    "\n",
    "Keras tuner is described in Ch. 8.4.3 in the textbook, you can follow along with the code examples from there.\n",
    "\n",
    "1. Define  function **build_model(hp)**. Since we found in the lab that mean absolute error gave us the best results, we could start with that one.\n",
    "2. Define a **RandomSearch** tuner. It is a good idea to first run *tf.keras.backend.clear_session()*\n",
    "3. Run the search. This is computationally very demanding and can take a long time. You don't need to let your computer work over night. You could start small, for instance ask for max_trials=20 only, executions_per_trial=1, only epochs=50 for training. Increase once you get a feeling for how long things take.\n"
   ]
  },
  {
   "cell_type": "code",
   "execution_count": 47,
   "metadata": {},
   "outputs": [],
   "source": [
    "def build_model(hp):\n",
    "    # Initialize  model\n",
    "    model = keras.Sequential() \n",
    "    \n",
    "    # Loop over the number of layers'num_layers'\n",
    "    for i in range(hp.Int('num_layers', 1, 4)):\n",
    "        # Add a dense layer with variable units\n",
    "        model.add(layers.Dense(\n",
    "            units=hp.Int('units_' + str(i), min_value=50, max_value=200, step=50),\n",
    "            activation='relu'\n",
    "        )) \n",
    "    \n",
    "    # Add the final output layer with linear activation\n",
    "    model.add(Dense(1, activation='linear'))\n",
    "    \n",
    "    # Compile the model with different learning rates\n",
    "    model.compile(\n",
    "        optimizer=tf.keras.optimizers.Adam(\n",
    "            hp.Choice('learning_rate', values=[1e-2, 1e-3, 1e-4])\n",
    "        ),\n",
    "        loss='mae'\n",
    "    ) \n",
    "    \n",
    "    return model"
   ]
  },
  {
   "cell_type": "code",
   "execution_count": 48,
   "metadata": {
    "id": "XKTmAfeb_Q09"
   },
   "outputs": [
    {
     "name": "stdout",
     "output_type": "stream",
     "text": [
      "Reloading Tuner from hyperparameter_opt\\photometric_redshift\\tuner0.json\n"
     ]
    }
   ],
   "source": [
    "# Clear any existing Keras session\n",
    "tf.keras.backend.clear_session()\n",
    "\n",
    "# Initialize a RandomSearch tuner to search for optimal hyperparameters\n",
    "tuner = RandomSearch(\n",
    "    build_model, \n",
    "    objective='val_loss',  #Optimizing validation loss\n",
    "    max_trials=20,  # Max number of hyperparameter combinations\n",
    "    executions_per_trial=1,  # Number of training runs per trial\n",
    "    directory='hyperparameter_opt',  # Directory to store tuning logs and checkpoints\n",
    "    project_name='photometric_redshift'  # Name of the tuning project\n",
    ")\n"
   ]
  },
  {
   "cell_type": "code",
   "execution_count": 49,
   "metadata": {
    "id": "XrqAgLjg_Q0-",
    "scrolled": true
   },
   "outputs": [],
   "source": [
    "# Search for the best hyperparameters by training the model on the training data\n",
    "# and evaluating it on the validation data for a specified number of epochs\n",
    "tuner.search(\n",
    "    x=X_train,  \n",
    "    y=y_train,  \n",
    "    validation_data=(X_val, y_val),  \n",
    "    epochs=50 \n",
    ")"
   ]
  },
  {
   "cell_type": "markdown",
   "metadata": {
    "id": "7FlfCn9m_Q0-"
   },
   "source": [
    "The \"results\\_summary(n)\" function gives us access to the n best models. It's useful to look at a few because often the differences are minimal, and a smaller model might be preferable! Run this with n=6 below:"
   ]
  },
  {
   "cell_type": "markdown",
   "metadata": {},
   "source": [
    "Check out some diagnostics:\n",
    "\n",
    "tuner.results_summary(5) let you look at the best 5 models\n",
    "\n",
    "tuner.get_best_hyperparameters()[0] picks the top model. \n",
    "\n",
    "model=tuner.hypermodel.build(best_hps) lets you define the model.\n",
    "\n",
    "model.build(input_shape=(None,6)) lets you build it\n",
    "\n",
    "Now fit this best model to the data, plot the test/validation loss curves, and compute the OLF and NMAD parameters. Were you able to get a better model than in lab 20?"
   ]
  },
  {
   "cell_type": "code",
   "execution_count": 50,
   "metadata": {
    "colab": {
     "base_uri": "https://localhost:8080/"
    },
    "executionInfo": {
     "elapsed": 224,
     "status": "ok",
     "timestamp": 1685403266983,
     "user": {
      "displayName": "Viviana Acquaviva",
      "userId": "16294609486294432741"
     },
     "user_tz": 240
    },
    "id": "9AeqNold_Q0-",
    "outputId": "e0995af6-9513-4580-dfb6-2339255ab4df"
   },
   "outputs": [
    {
     "name": "stdout",
     "output_type": "stream",
     "text": [
      "Results summary\n",
      "Results in hyperparameter_opt\\photometric_redshift\n",
      "Showing 6 best trials\n",
      "Objective(name=\"val_loss\", direction=\"min\")\n",
      "\n",
      "Trial 14 summary\n",
      "Hyperparameters:\n",
      "units_input: 100\n",
      "num_layers: 3\n",
      "units_0: 50\n",
      "dropout_0: 0.2\n",
      "learning_rate: 0.001\n",
      "units_1: 150\n",
      "dropout_1: 0.2\n",
      "units_2: 150\n",
      "dropout_2: 0.0\n",
      "Score: 0.09073787182569504\n",
      "\n",
      "Trial 07 summary\n",
      "Hyperparameters:\n",
      "units_input: 100\n",
      "num_layers: 3\n",
      "units_0: 100\n",
      "dropout_0: 0.1\n",
      "learning_rate: 0.0001\n",
      "units_1: 100\n",
      "dropout_1: 0.4\n",
      "units_2: 100\n",
      "dropout_2: 0.30000000000000004\n",
      "Score: 0.09458101540803909\n",
      "\n",
      "Trial 16 summary\n",
      "Hyperparameters:\n",
      "units_input: 200\n",
      "num_layers: 2\n",
      "units_0: 200\n",
      "dropout_0: 0.0\n",
      "learning_rate: 0.0001\n",
      "units_1: 200\n",
      "dropout_1: 0.2\n",
      "units_2: 150\n",
      "dropout_2: 0.0\n",
      "Score: 0.09660123288631439\n",
      "\n",
      "Trial 04 summary\n",
      "Hyperparameters:\n",
      "units_input: 150\n",
      "num_layers: 3\n",
      "units_0: 50\n",
      "dropout_0: 0.0\n",
      "learning_rate: 0.001\n",
      "units_1: 200\n",
      "dropout_1: 0.4\n",
      "units_2: 150\n",
      "dropout_2: 0.1\n",
      "Score: 0.10982884466648102\n",
      "\n",
      "Trial 15 summary\n",
      "Hyperparameters:\n",
      "units_input: 100\n",
      "num_layers: 2\n",
      "units_0: 150\n",
      "dropout_0: 0.30000000000000004\n",
      "learning_rate: 0.0001\n",
      "units_1: 50\n",
      "dropout_1: 0.2\n",
      "units_2: 100\n",
      "dropout_2: 0.30000000000000004\n",
      "Score: 0.11220045387744904\n",
      "\n",
      "Trial 11 summary\n",
      "Hyperparameters:\n",
      "units_input: 200\n",
      "num_layers: 1\n",
      "units_0: 50\n",
      "dropout_0: 0.30000000000000004\n",
      "learning_rate: 0.0001\n",
      "units_1: 150\n",
      "dropout_1: 0.2\n",
      "units_2: 50\n",
      "dropout_2: 0.2\n",
      "Score: 0.11922226846218109\n",
      "\u001b[1m66/66\u001b[0m \u001b[32m━━━━━━━━━━━━━━━━━━━━\u001b[0m\u001b[37m\u001b[0m \u001b[1m0s\u001b[0m 3ms/step\n",
      "OLF: zhelio    0.152236\n",
      "dtype: float64\n",
      "NMAD: 0.050999440385399476\n"
     ]
    },
    {
     "data": {
      "image/png": "[encoded data removed]",
      "text/plain": [
       "<Figure size 432x288 with 1 Axes>"
      ]
     },
     "metadata": {
      "needs_background": "light"
     },
     "output_type": "display_data"
    }
   ],
   "source": [
    "tuner.results_summary(6)\n",
    "\n",
    "#Best hyperparameters found during the tuning process\n",
    "best_hps = tuner.get_best_hyperparameters()[0]\n",
    "\n",
    "# Build model using the best hyperparameters\n",
    "model = tuner.hypermodel.build(best_hps)\n",
    "\n",
    "# Build the model's architecture\n",
    "model.build(input_shape=(None, 6))\n",
    "\n",
    "# Train the model on the training data and validate it on the validation data for 50 epochs\n",
    "history = model.fit(\n",
    "    X_train, y_train, \n",
    "    validation_data=(X_val, y_val),  \n",
    "    epochs=50,\n",
    "    verbose=0  # Verbosity mode (0 = silent)\n",
    ")\n",
    "\n",
    "# Plot the training and validation loss curves over epochs\n",
    "plt.plot(history.history['loss'], label='train_loss')\n",
    "plt.plot(history.history['val_loss'], label='val_loss')\n",
    "plt.xlabel('Epoch')\n",
    "plt.ylabel('Loss')\n",
    "plt.legend()\n",
    "\n",
    "# Predict the target values for the test data using the trained model\n",
    "y_pred = model.predict(X_test)\n",
    "\n",
    "# Calculate and print the outlier fraction (OLF) and normalized median absolute deviation (NMAD) of the predictions\n",
    "print('OLF:', np.sum(np.abs(y_pred - y_test) > 0.15) / len(y_test))\n",
    "print('NMAD:', 1.48 * np.median(np.abs(y_pred - y_test) / (1 + np.abs(y_test))))"
   ]
  },
  {
   "cell_type": "code",
   "execution_count": 51,
   "metadata": {},
   "outputs": [
    {
     "data": {
      "text/html": [
       "<pre style=\"white-space:pre;overflow-x:auto;line-height:normal;font-family:Menlo,'DejaVu Sans Mono',consolas,'Courier New',monospace\"><span style=\"font-weight: bold\">Model: \"sequential\"</span>\n",
       "</pre>\n"
      ],
      "text/plain": [
       "\u001b[1mModel: \"sequential\"\u001b[0m\n"
      ]
     },
     "metadata": {},
     "output_type": "display_data"
    },
    {
     "data": {
      "text/html": [
       "<pre style=\"white-space:pre;overflow-x:auto;line-height:normal;font-family:Menlo,'DejaVu Sans Mono',consolas,'Courier New',monospace\">┏━━━━━━━━━━━━━━━━━━━━━━━━━━━━━━━━━┳━━━━━━━━━━━━━━━━━━━━━━━━┳━━━━━━━━━━━━━━━┓\n",
       "┃<span style=\"font-weight: bold\"> Layer (type)                    </span>┃<span style=\"font-weight: bold\"> Output Shape           </span>┃<span style=\"font-weight: bold\">       Param # </span>┃\n",
       "┡━━━━━━━━━━━━━━━━━━━━━━━━━━━━━━━━━╇━━━━━━━━━━━━━━━━━━━━━━━━╇━━━━━━━━━━━━━━━┩\n",
       "│ dense (<span style=\"color: #0087ff; text-decoration-color: #0087ff\">Dense</span>)                   │ (<span style=\"color: #00d7ff; text-decoration-color: #00d7ff\">None</span>, <span style=\"color: #00af00; text-decoration-color: #00af00\">50</span>)             │           <span style=\"color: #00af00; text-decoration-color: #00af00\">350</span> │\n",
       "├─────────────────────────────────┼────────────────────────┼───────────────┤\n",
       "│ dense_1 (<span style=\"color: #0087ff; text-decoration-color: #0087ff\">Dense</span>)                 │ (<span style=\"color: #00d7ff; text-decoration-color: #00d7ff\">None</span>, <span style=\"color: #00af00; text-decoration-color: #00af00\">150</span>)            │         <span style=\"color: #00af00; text-decoration-color: #00af00\">7,650</span> │\n",
       "├─────────────────────────────────┼────────────────────────┼───────────────┤\n",
       "│ dense_2 (<span style=\"color: #0087ff; text-decoration-color: #0087ff\">Dense</span>)                 │ (<span style=\"color: #00d7ff; text-decoration-color: #00d7ff\">None</span>, <span style=\"color: #00af00; text-decoration-color: #00af00\">150</span>)            │        <span style=\"color: #00af00; text-decoration-color: #00af00\">22,650</span> │\n",
       "├─────────────────────────────────┼────────────────────────┼───────────────┤\n",
       "│ dense_3 (<span style=\"color: #0087ff; text-decoration-color: #0087ff\">Dense</span>)                 │ (<span style=\"color: #00d7ff; text-decoration-color: #00d7ff\">None</span>, <span style=\"color: #00af00; text-decoration-color: #00af00\">1</span>)              │           <span style=\"color: #00af00; text-decoration-color: #00af00\">151</span> │\n",
       "└─────────────────────────────────┴────────────────────────┴───────────────┘\n",
       "</pre>\n"
      ],
      "text/plain": [
       "┏━━━━━━━━━━━━━━━━━━━━━━━━━━━━━━━━━┳━━━━━━━━━━━━━━━━━━━━━━━━┳━━━━━━━━━━━━━━━┓\n",
       "┃\u001b[1m \u001b[0m\u001b[1mLayer (type)                   \u001b[0m\u001b[1m \u001b[0m┃\u001b[1m \u001b[0m\u001b[1mOutput Shape          \u001b[0m\u001b[1m \u001b[0m┃\u001b[1m \u001b[0m\u001b[1m      Param #\u001b[0m\u001b[1m \u001b[0m┃\n",
       "┡━━━━━━━━━━━━━━━━━━━━━━━━━━━━━━━━━╇━━━━━━━━━━━━━━━━━━━━━━━━╇━━━━━━━━━━━━━━━┩\n",
       "│ dense (\u001b[38;5;33mDense\u001b[0m)                   │ (\u001b[38;5;45mNone\u001b[0m, \u001b[38;5;34m50\u001b[0m)             │           \u001b[38;5;34m350\u001b[0m │\n",
       "├─────────────────────────────────┼────────────────────────┼───────────────┤\n",
       "│ dense_1 (\u001b[38;5;33mDense\u001b[0m)                 │ (\u001b[38;5;45mNone\u001b[0m, \u001b[38;5;34m150\u001b[0m)            │         \u001b[38;5;34m7,650\u001b[0m │\n",
       "├─────────────────────────────────┼────────────────────────┼───────────────┤\n",
       "│ dense_2 (\u001b[38;5;33mDense\u001b[0m)                 │ (\u001b[38;5;45mNone\u001b[0m, \u001b[38;5;34m150\u001b[0m)            │        \u001b[38;5;34m22,650\u001b[0m │\n",
       "├─────────────────────────────────┼────────────────────────┼───────────────┤\n",
       "│ dense_3 (\u001b[38;5;33mDense\u001b[0m)                 │ (\u001b[38;5;45mNone\u001b[0m, \u001b[38;5;34m1\u001b[0m)              │           \u001b[38;5;34m151\u001b[0m │\n",
       "└─────────────────────────────────┴────────────────────────┴───────────────┘\n"
      ]
     },
     "metadata": {},
     "output_type": "display_data"
    },
    {
     "data": {
      "text/html": [
       "<pre style=\"white-space:pre;overflow-x:auto;line-height:normal;font-family:Menlo,'DejaVu Sans Mono',consolas,'Courier New',monospace\"><span style=\"font-weight: bold\"> Total params: </span><span style=\"color: #00af00; text-decoration-color: #00af00\">92,405</span> (360.96 KB)\n",
       "</pre>\n"
      ],
      "text/plain": [
       "\u001b[1m Total params: \u001b[0m\u001b[38;5;34m92,405\u001b[0m (360.96 KB)\n"
      ]
     },
     "metadata": {},
     "output_type": "display_data"
    },
    {
     "data": {
      "text/html": [
       "<pre style=\"white-space:pre;overflow-x:auto;line-height:normal;font-family:Menlo,'DejaVu Sans Mono',consolas,'Courier New',monospace\"><span style=\"font-weight: bold\"> Trainable params: </span><span style=\"color: #00af00; text-decoration-color: #00af00\">30,801</span> (120.32 KB)\n",
       "</pre>\n"
      ],
      "text/plain": [
       "\u001b[1m Trainable params: \u001b[0m\u001b[38;5;34m30,801\u001b[0m (120.32 KB)\n"
      ]
     },
     "metadata": {},
     "output_type": "display_data"
    },
    {
     "data": {
      "text/html": [
       "<pre style=\"white-space:pre;overflow-x:auto;line-height:normal;font-family:Menlo,'DejaVu Sans Mono',consolas,'Courier New',monospace\"><span style=\"font-weight: bold\"> Non-trainable params: </span><span style=\"color: #00af00; text-decoration-color: #00af00\">0</span> (0.00 B)\n",
       "</pre>\n"
      ],
      "text/plain": [
       "\u001b[1m Non-trainable params: \u001b[0m\u001b[38;5;34m0\u001b[0m (0.00 B)\n"
      ]
     },
     "metadata": {},
     "output_type": "display_data"
    },
    {
     "data": {
      "text/html": [
       "<pre style=\"white-space:pre;overflow-x:auto;line-height:normal;font-family:Menlo,'DejaVu Sans Mono',consolas,'Courier New',monospace\"><span style=\"font-weight: bold\"> Optimizer params: </span><span style=\"color: #00af00; text-decoration-color: #00af00\">61,604</span> (240.64 KB)\n",
       "</pre>\n"
      ],
      "text/plain": [
       "\u001b[1m Optimizer params: \u001b[0m\u001b[38;5;34m61,604\u001b[0m (240.64 KB)\n"
      ]
     },
     "metadata": {},
     "output_type": "display_data"
    }
   ],
   "source": [
    "model.summary()"
   ]
  },
  {
   "cell_type": "markdown",
   "metadata": {},
   "source": [
    "#### NMAD is better than lab 20 but OLF is worse."
   ]
  },
  {
   "cell_type": "markdown",
   "metadata": {},
   "source": [
    "## Part 2: CV with scikeras wrapper\n",
    "\n",
    "In order to determine whether any improvement is significant, we should use cross validation. The scikeras wrapper is a convenient method that lets us use all the tools we previously learned from the scikit learn library with keras models. The textbook has a description in Chapter 8.4.4\n",
    "\n",
    "Set up three fold CV for the best model you found in the hyperparameter tuning. As usual, print the mean and standard deviation from the test and train scores.\n",
    "\n",
    "Compare it to our base model from lab 20, which had 2 layers with 100 neurons each and learning rate 0.001. Is your optimized model still better after CV?"
   ]
  },
  {
   "cell_type": "code",
   "execution_count": 52,
   "metadata": {},
   "outputs": [
    {
     "name": "stdout",
     "output_type": "stream",
     "text": [
      "Train Scores: 0.0625 ± 0.0017\n",
      "Test Scores: 0.0670 ± 0.0024\n"
     ]
    }
   ],
   "source": [
    "# Initialize KFold cross-validation with 3 splits\n",
    "kf = KFold(n_splits=3, shuffle=True, random_state=12)\n",
    "\n",
    "train_scores = []  \n",
    "test_scores = []   \n",
    "\n",
    "for train_index, test_index in kf.split(X):\n",
    "    # Split the data into training and testing sets for the current fold\n",
    "    X_train, X_test = X.iloc[train_index], X.iloc[test_index]\n",
    "    y_train, y_test = y.iloc[train_index], y.iloc[test_index]\n",
    "\n",
    "    scaler = StandardScaler()\n",
    "    X_train_scaled = scaler.fit_transform(X_train)\n",
    "    X_test_scaled = scaler.transform(X_test)\n",
    "    \n",
    "    #Build the model using the best hyperparameters obtained from tuning\n",
    "    model = tuner.hypermodel.build(best_hps)\n",
    "    \n",
    "    #Wrap the model in a KerasRegressor to be compatible with sklearn's pipeline\n",
    "    estimator = KerasRegressor(build_fn=model, epochs=50, batch_size=200, verbose=0)\n",
    "    \n",
    "    #Construct a pipeline to scale the data and apply the model\n",
    "    model = Pipeline([('scale', StandardScaler()), ('model', estimator)])\n",
    "    \n",
    "    #Build the model's architecture\n",
    "    model = tuner.hypermodel.build(best_hps)\n",
    "    model.build(input_shape=(None, 6))\n",
    "    \n",
    "    # Fit the model\n",
    "    model.fit(X_train_scaled, y_train, epochs=50, batch_size=200, verbose=0)\n",
    "    \n",
    "    # Evaluate the model on both training and testing data\n",
    "    train_score = model.evaluate(X_train_scaled, y_train, verbose=0)\n",
    "    test_score = model.evaluate(X_test_scaled, y_test, verbose=0)\n",
    "    \n",
    "    train_scores.append(train_score)\n",
    "    test_scores.append(test_score)\n",
    "\n",
    "# Calculate and display the mean and standard deviation of the scores across all folds\n",
    "print(f\"Train Scores: {np.mean(train_scores):.4f} ± {np.std(train_scores):.4f}\")\n",
    "print(f\"Test Scores: {np.mean(test_scores):.4f} ± {np.std(test_scores):.4f}\")"
   ]
  },
  {
   "cell_type": "code",
   "execution_count": 54,
   "metadata": {},
   "outputs": [
    {
     "name": "stdout",
     "output_type": "stream",
     "text": [
      "Train Scores: 0.0717 ± 0.0051\n",
      "Test Scores: 0.0748 ± 0.0017\n"
     ]
    }
   ],
   "source": [
    "train_scores = []  \n",
    "test_scores = []   \n",
    "\n",
    "for train_index, test_index in kf.split(X):\n",
    "    # Split the data into training and testing sets for the current fold\n",
    "    X_train, X_test = X.iloc[train_index], X.iloc[test_index]\n",
    "    y_train, y_test = y.iloc[train_index], y.iloc[test_index]\n",
    "\n",
    "    # Scaling the data\n",
    "    scaler = StandardScaler()\n",
    "    X_train_scaled = scaler.fit_transform(X_train)\n",
    "    X_test_scaled = scaler.transform(X_test)\n",
    "    \n",
    "    # Creating a new instance of the optimized model\n",
    "    model = Sequential([\n",
    "        Input(shape=(6,)),  # Input layer with 6 neurons\n",
    "        Dense(100, activation='relu'),  # First hidden layer with 100 neurons\n",
    "        Dense(100, activation='relu'),  # Second hidden layer with 100 neurons\n",
    "        Dense(1, activation='linear')  # Output layer with 1 neuron\n",
    "    ])\n",
    "    model.compile(optimizer=Adam(learning_rate=0.001), loss='mean_absolute_error')\n",
    "\n",
    "    model.fit(X_train_scaled, y_train, epochs=50, batch_size=200, verbose=0)\n",
    "    \n",
    "    # Evaluate the model on both training and testing data\n",
    "    train_score = model.evaluate(X_train_scaled, y_train, verbose=0)\n",
    "    test_score = model.evaluate(X_test_scaled, y_test, verbose=0)\n",
    "    \n",
    "    train_scores.append(train_score)\n",
    "    test_scores.append(test_score)\n",
    "\n",
    "print(f\"Train Scores: {np.mean(train_scores):.4f} ± {np.std(train_scores):.4f}\")\n",
    "print(f\"Test Scores: {np.mean(test_scores):.4f} ± {np.std(test_scores):.4f}\")"
   ]
  },
  {
   "cell_type": "markdown",
   "metadata": {},
   "source": [
    "Interestingly the 'base' model performs better."
   ]
  },
  {
   "cell_type": "code",
   "execution_count": null,
   "metadata": {},
   "outputs": [],
   "source": []
  }
 ],
 "metadata": {
  "accelerator": "GPU",
  "colab": {
   "provenance": []
  },
  "kernelspec": {
   "display_name": "Python 3 (ipykernel)",
   "language": "python",
   "name": "python3"
  },
  "language_info": {
   "codemirror_mode": {
    "name": "ipython",
    "version": 3
   },
   "file_extension": ".py",
   "mimetype": "text/x-python",
   "name": "python",
   "nbconvert_exporter": "python",
   "pygments_lexer": "ipython3",
   "version": "3.9.12"
  }
 },
 "nbformat": 4,
 "nbformat_minor": 4
}
