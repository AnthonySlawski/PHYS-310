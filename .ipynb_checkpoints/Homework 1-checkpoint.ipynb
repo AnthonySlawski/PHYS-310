{
 "cells": [
  {
   "cell_type": "markdown",
   "metadata": {
    "id": "vtj3ucUjOIvD"
   },
   "source": [
    "# Homework 1 - Dark Energy \n",
    "\n",
    "Modified from (Viviana Acquaviva (2023))\n",
    "License: [BSD-3-clause](https://opensource.org/license/bsd-3-clause/)"
   ]
  },
  {
   "cell_type": "markdown",
   "metadata": {
    "id": "cAqie4tNOIvH"
   },
   "source": [
    "The worksheet is organized as a series of tasks. You can edit this notebook directly by adding code (and comment) cells to perform these tasks. You will need to import packages, even if this is not explicitly requested.\n",
    "\n",
    "One function from a package that we haven't mentioned so far but you will need is scipy.integrate (numerical integration)."
   ]
  },
  {
   "cell_type": "code",
   "execution_count": 12,
   "metadata": {
    "id": "zuJwA3z6OIvI"
   },
   "outputs": [],
   "source": [
    "import numpy as np\n",
    "import math\n",
    "import scipy.integrate\n",
    "import matplotlib.pyplot as plt\n",
    "from scipy.integrate import quad"
   ]
  },
  {
   "cell_type": "markdown",
   "metadata": {
    "collapsed": true,
    "id": "zrylDN_WOIvJ"
   },
   "source": [
    "#### Task 1: Import the data from the file sn_data.txt\n",
    "\n",
    "This data set contains three columns with astronomical data about supernovae. \n",
    "\n",
    "The first one is the redshift of the supernovae. Redshift is a measure of the velocity at which supernovae are moving away from us. Redshift = 0 means no motion, increasing values represent increasing velocity. Redshift has no units.\n",
    "\n",
    "The second column is the distance of the supernovae, expressed in the units of Mpc (megaparsec). Mega = 1 Million; 1 parsec (pc) = 3.26 light years.\n",
    "\n",
    "The third column contains the uncertainties on the distance measurements, (let's call them sigma(d)), again expressed in Mpc."
   ]
  },
  {
   "cell_type": "code",
   "execution_count": 4,
   "metadata": {
    "id": "27xnbMPJOIvK"
   },
   "outputs": [
    {
     "data": {
      "text/html": [
       "<div>\n",
       "<style scoped>\n",
       "    .dataframe tbody tr th:only-of-type {\n",
       "        vertical-align: middle;\n",
       "    }\n",
       "\n",
       "    .dataframe tbody tr th {\n",
       "        vertical-align: top;\n",
       "    }\n",
       "\n",
       "    .dataframe thead th {\n",
       "        text-align: right;\n",
       "    }\n",
       "</style>\n",
       "<table border=\"1\" class=\"dataframe\">\n",
       "  <thead>\n",
       "    <tr style=\"text-align: right;\">\n",
       "      <th></th>\n",
       "      <th>z</th>\n",
       "      <th>d</th>\n",
       "      <th>sigma(d)</th>\n",
       "    </tr>\n",
       "  </thead>\n",
       "  <tbody>\n",
       "    <tr>\n",
       "      <th>0</th>\n",
       "      <td>0.010</td>\n",
       "      <td>51.5229</td>\n",
       "      <td>8.77905</td>\n",
       "    </tr>\n",
       "    <tr>\n",
       "      <th>1</th>\n",
       "      <td>0.010</td>\n",
       "      <td>43.6516</td>\n",
       "      <td>7.63887</td>\n",
       "    </tr>\n",
       "    <tr>\n",
       "      <th>2</th>\n",
       "      <td>0.010</td>\n",
       "      <td>55.4626</td>\n",
       "      <td>9.96117</td>\n",
       "    </tr>\n",
       "    <tr>\n",
       "      <th>3</th>\n",
       "      <td>0.013</td>\n",
       "      <td>63.6796</td>\n",
       "      <td>9.09091</td>\n",
       "    </tr>\n",
       "    <tr>\n",
       "      <th>4</th>\n",
       "      <td>0.013</td>\n",
       "      <td>55.7186</td>\n",
       "      <td>7.69781</td>\n",
       "    </tr>\n",
       "  </tbody>\n",
       "</table>\n",
       "</div>"
      ],
      "text/plain": [
       "       z        d  sigma(d)\n",
       "0  0.010  51.5229   8.77905\n",
       "1  0.010  43.6516   7.63887\n",
       "2  0.010  55.4626   9.96117\n",
       "3  0.013  63.6796   9.09091\n",
       "4  0.013  55.7186   7.69781"
      ]
     },
     "execution_count": 4,
     "metadata": {},
     "output_type": "execute_result"
    }
   ],
   "source": [
    "import pandas as pd\n",
    "df=pd.read_csv('sn_data.txt',delimiter='\\t')\n",
    "df.columns=['z','d','sigma(d)']\n",
    "df.head()"
   ]
  },
  {
   "cell_type": "code",
   "execution_count": 5,
   "metadata": {},
   "outputs": [
    {
     "name": "stdout",
     "output_type": "stream",
     "text": [
      "<class 'pandas.core.frame.DataFrame'>\n",
      "RangeIndex: 206 entries, 0 to 205\n",
      "Data columns (total 3 columns):\n",
      " #   Column    Non-Null Count  Dtype  \n",
      "---  ------    --------------  -----  \n",
      " 0   z         206 non-null    float64\n",
      " 1   d         206 non-null    float64\n",
      " 2   sigma(d)  206 non-null    float64\n",
      "dtypes: float64(3)\n",
      "memory usage: 5.0 KB\n"
     ]
    }
   ],
   "source": [
    "df.info()"
   ]
  },
  {
   "cell_type": "markdown",
   "metadata": {
    "id": "vcYMjTPvOIvK"
   },
   "source": [
    "#### Task 2: Make an errorbar plot of this data set.\n",
    "\n",
    "Place redshift (z) on the x axis, distance on the y axis, and sigma(d) as the error on the distance. Add labels to the axes and don't forget the units."
   ]
  },
  {
   "cell_type": "code",
   "execution_count": 6,
   "metadata": {},
   "outputs": [
    {
     "data": {
      "text/plain": [
       "<matplotlib.legend.Legend at 0x206dd143cd0>"
      ]
     },
     "execution_count": 6,
     "metadata": {},
     "output_type": "execute_result"
    },
    {
     "data": {
      "image/png": "[encoded data removed]",
      "text/plain": [
       "<Figure size 432x288 with 1 Axes>"
      ]
     },
     "metadata": {
      "needs_background": "light"
     },
     "output_type": "display_data"
    }
   ],
   "source": [
    "plt.errorbar(df['z'],df['d'],yerr=df['sigma(d)'],label='Data Points')\n",
    "plt.xlabel('Redshift')\n",
    "plt.ylabel('Distance (Mpc)')\n",
    "plt.title('Error Bar Plot of Redshift vs Distance')\n",
    "plt.grid(True)\n",
    "plt.legend()"
   ]
  },
  {
   "cell_type": "markdown",
   "metadata": {
    "id": "kqgKmojJOIvL"
   },
   "source": [
    "The plot that you just made just shows the data. Now what we want to do is to build different models for the distance of these supernovae, and then choose the model that works best.\n",
    "\n",
    "Our model for the distance (called \"Luminosity Distance\") is a function of different parameters: \n",
    "\n",
    "- z (the redshift) is the independent variable; in other words, our model for the distance will return a distance for any redshift value.\n",
    "\n",
    "- Omegam is the percentage of matter in the Universe, and it's a number between 0 and 1;\n",
    "\n",
    "- OmegaDE is the percentage of Dark Energy in the Universe; we can assume that Omegam + OmegaDE = 1 (so the Universe only contains matter and dark energy), which simplifies our model a little bit, because we can write OmegaDE = 1 - Omegam;\n",
    "\n",
    "- H0 is the Hubble constant, which gives the current rate of expansion of the Universe; we will fix it to be = 70 km/s/Mpc;\n",
    "\n",
    "- c is the speed of light in km/s; c = 2.99 x 10^5. This is a constant of nature so we won't need to change it.\n",
    "\n",
    "Here comes our model:"
   ]
  },
  {
   "cell_type": "markdown",
   "metadata": {
    "id": "m2JcSWRlOIvM"
   },
   "source": [
    "\n",
    "\\begin{align}\n",
    "D_L(z,\\Omega_m, H_0, c) = \\,(1+z) \\frac{c}{H_0}\\int_0^z \\frac{dx}{\\sqrt{\\Omega_m(1+x)^3 + \\Omega_{DE}}} \n",
    "\\end{align}"
   ]
  },
  {
   "cell_type": "markdown",
   "metadata": {
    "id": "N40P7Z0nOIvN"
   },
   "source": [
    "#### Task 3: Complete this function definition. Use the notes above!\n",
    "\n",
    "Note: Omega_DE is not a parameter of the function, because our function is a function of Omega_m only.\n"
   ]
  },
  {
   "cell_type": "code",
   "execution_count": 14,
   "metadata": {},
   "outputs": [],
   "source": [
    "def LumDist(z, Omegam=0.3, H0=70, ckms=2.99e5):\n",
    "    OmegaDE = 1 - Omegam\n",
    "    integral, _ = scipy.integrate.quad(lambda x: 1.0 / math.sqrt(Omegam * (1.0 + x) ** 3 + OmegaDE), 0, z)\n",
    "    return (1 + z) * (ckms / H0) * integral"
   ]
  },
  {
   "cell_type": "markdown",
   "metadata": {
    "id": "7EmFExBeOIvP"
   },
   "source": [
    "#### Task 4\n",
    "\n",
    "What are the arguments of the LumDist function? Which ones have default values?\n",
    "\n",
    "Before continuing, check that LumDist(1) ~ 6590 and LumDist(0.5) ~ 2825."
   ]
  },
  {
   "cell_type": "code",
   "execution_count": 15,
   "metadata": {},
   "outputs": [
    {
     "data": {
      "text/plain": [
       "6590.191224626158"
      ]
     },
     "execution_count": 15,
     "metadata": {},
     "output_type": "execute_result"
    }
   ],
   "source": [
    "LumDist(1)"
   ]
  },
  {
   "cell_type": "code",
   "execution_count": 16,
   "metadata": {},
   "outputs": [
    {
     "data": {
      "text/plain": [
       "2825.44963181206"
      ]
     },
     "execution_count": 16,
     "metadata": {},
     "output_type": "execute_result"
    }
   ],
   "source": [
    "LumDist(0.5)"
   ]
  },
  {
   "cell_type": "markdown",
   "metadata": {
    "id": "66Wxvc91OIvP"
   },
   "source": [
    "#### Task 5\n",
    "\n",
    "In its current form, the \"LumDist\" function cannot take arrays as inputs (only single numbers). We can vectorize the function so we can give it a 1D array of redshifts as input:\n",
    "\n",
    "vecLumDist = np.vectorize(LumDist)\n",
    "\n",
    "Check that it works by defining a numpy array, \"z\", with the first column of your supernova data, and feeding it to your function."
   ]
  },
  {
   "cell_type": "code",
   "execution_count": 17,
   "metadata": {},
   "outputs": [
    {
     "name": "stdout",
     "output_type": "stream",
     "text": [
      "Luminosity Distances for Redshifts: {0.01: 43.04415252003364, 0.013: 56.08545397501156, 0.014: 60.44562298618643, 0.015: 64.81231459082952, 0.016: 69.185521789096, 0.017: 73.56523758246699, 0.018: 77.95145497377813, 0.019: 82.34416696724817, 0.021: 91.14904678462534, 0.023: 99.9798210970869, 0.024: 104.40490121502341, 0.025: 108.83643399106103, 0.026: 113.27441243989126, 0.027: 117.71882957781389, 0.028: 122.1696784227648, 0.029: 126.6269519943437, 0.03: 131.09064331384184, 0.031: 135.56074540426957, 0.032: 140.03725129038384, 0.033: 144.5201539987157, 0.034: 149.00944655759758, 0.036: 158.00717334951182, 0.038: 167.03037592984927, 0.04: 176.07899859289336, 0.043: 189.69947346381971, 0.045: 198.81140282943934, 0.046: 203.37683049757632, 0.049: 217.11088210036758, 0.05: 221.70146569606445, 0.052: 230.90144085466812, 0.053: 235.51081855057683, 0.056: 249.37642895171663, 0.058: 258.6513310670428, 0.061: 272.61028862820706, 0.063: 281.9472492765849, 0.071: 319.54180682866314, 0.075: 338.48634268525154, 0.079: 357.52846288508925, 0.088: 400.727751584601, 0.101: 463.9848496131955, 0.124: 578.3434052470081, 0.172: 826.7363178793056, 0.18: 869.3753822552077, 0.249: 1251.1327683051632, 0.263: 1331.5413403841037, 0.278: 1418.754477417184, 0.285: 1459.824081789592, 0.3: 1548.6115506558494, 0.32: 1668.6234445531347, 0.331: 1735.408390600948, 0.334: 1753.7169970447294, 0.337: 1772.0658314819568, 0.34: 1790.4547438930338, 0.357: 1895.408420960078, 0.358: 1901.6215190060984, 0.369: 1970.250719020151, 0.371: 1982.7845894426832, 0.38: 2039.3976664644078, 0.388: 2090.007513659019, 0.4: 2166.4228700109147, 0.415: 2262.7745810758606, 0.416: 2269.230535986678, 0.425: 2327.5150885299995, 0.43: 2360.0352642757753, 0.44: 2425.372352975417, 0.449: 2484.5106501059727, 0.45: 2491.1009952453987, 0.455: 2524.110627838701, 0.459: 2550.5875337434595, 0.46: 2557.2163313901983, 0.461: 2563.8489479598243, 0.463: 2577.1256188275615, 0.47: 2623.713565028911, 0.472: 2637.058421818603, 0.474: 2650.418327411018, 0.475: 2657.103911796888, 0.477: 2670.48632038012, 0.478: 2677.1831352491567, 0.48: 2690.5879628682233, 0.49: 2757.8348544409614, 0.495: 2791.5965429636763, 0.496: 2798.3598668838486, 0.5: 2825.44963181206, 0.504: 2852.5975304587646, 0.508: 2879.803274673403, 0.511: 2900.245371538788, 0.518: 2948.0688328255005, 0.526: 3002.937315783485, 0.528: 3016.6897043530576, 0.532: 3044.2365589964506, 0.537: 3078.7486656955098, 0.538: 3085.661515739201, 0.54: 3099.497610209773, 0.543: 3120.277673770957, 0.55: 3168.884861848745, 0.552: 3182.803430566745, 0.557: 3217.659398984654, 0.57: 3308.6797779900253, 0.571: 3315.7047863978064, 0.579: 3372.024324810995, 0.58: 3379.0791400636654, 0.581: 3386.137246927217, 0.582: 3393.1986413708623, 0.592: 3463.992520087875, 0.604: 3549.3729918110744, 0.61: 3592.2362602533613, 0.613: 3613.7107848782493, 0.615: 3628.0429492172234, 0.62: 3663.928487341369, 0.627: 3714.299798933603, 0.63: 3735.934204824036, 0.633: 3757.5964844828873, 0.64: 3808.2496350391966, 0.643: 3830.0041001583836, 0.657: 3931.8861481266113, 0.67: 4027.017251482306, 0.679: 4093.16991159469, 0.688: 4159.559083120482, 0.695: 4211.3570022971535, 0.707: 4300.479374674618, 0.73: 4472.4291582743335, 0.735: 4510.003324713732, 0.74: 4547.645807417818, 0.756: 4668.556209982332, 0.771: 4782.529919661149, 0.778: 4835.92005055193, 0.791: 4935.410286000228, 0.798: 4989.161614025422, 0.8: 5004.542041914674, 0.811: 5089.314984707074, 0.815: 5120.216792468811, 0.822: 5174.390765232522, 0.828: 5220.922029754518, 0.83: 5236.452120030118, 0.832: 5251.99200763468, 0.839: 5306.458449311931, 0.84: 5314.249089739444, 0.854: 5423.571113769359, 0.86: 5470.566882841447, 0.87: 5549.082332203626, 0.882: 5643.609770442675, 0.884: 5659.396815449773, 0.9: 5786.023500480302, 0.905: 5825.713757740188, 0.935: 6065.027476197891, 0.949: 6177.38278791069, 0.95: 6185.424352600561, 0.954: 6217.612045086166, 0.961: 6274.022673720087, 0.97: 6346.70319570975, 0.975: 6387.1548779722925, 0.977: 6403.350190409626, 1.01: 6671.763730110512, 1.02: 6753.537590378284, 1.056: 7049.558751951298, 1.12: 7581.906563038963, 1.14: 7749.800099061798, 1.199: 8249.148702882465, 1.23: 8513.86571326533, 1.3: 9117.270703598522, 1.305: 9160.661459268742, 1.34: 9465.445366394084, 1.37: 9728.119316286005, 1.39: 9903.95083836801, 1.755: 13202.731160031488}\n"
     ]
    }
   ],
   "source": [
    "vecLumDist = np.vectorize(LumDist)\n",
    "z_ar=np.array(df['z'])\n",
    "lum_dist=vecLumDist(z_ar)\n",
    "lum_dist_dict=dict(zip(z_ar,lum_dist))\n",
    "print('Luminosity Distances for Redshifts:',lum_dist_dict)"
   ]
  },
  {
   "cell_type": "markdown",
   "metadata": {
    "id": "5fypD67hOIvQ"
   },
   "source": [
    "#### Task 6\n",
    "\n",
    "You can now plot the luminosity distance versus redshift for any model of the Universe! \n",
    "\n",
    "Begin by plotting z (the redshifts) versus the luminosity distance, for Omega_m = 0.3 (default value)."
   ]
  },
  {
   "cell_type": "code",
   "execution_count": 18,
   "metadata": {},
   "outputs": [
    {
     "data": {
      "image/png": "[encoded data removed]",
      "text/plain": [
       "<Figure size 432x288 with 1 Axes>"
      ]
     },
     "metadata": {
      "needs_background": "light"
     },
     "output_type": "display_data"
    }
   ],
   "source": [
    "plt.scatter(z_ar,lum_dist,label='$\\Omega_m = 0.3$')\n",
    "plt.xlabel('Redshift')\n",
    "plt.ylabel('Luminosity Distance (Mpc)')\n",
    "plt.title('Luminosity Distance vs Redshift')\n",
    "plt.legend()\n",
    "plt.grid(True)\n",
    "plt.show()"
   ]
  },
  {
   "cell_type": "markdown",
   "metadata": {
    "id": "eHVDJmR1OIvQ"
   },
   "source": [
    "#### Task 7\n",
    "\n",
    "Now let's compare data and models on a scatter plot to see which model best fits the data. Plot the data with error bars as before, and then the luminosity distance curve for the supernovae for three models:\n",
    "    \n",
    "Model 1: Omega_m = 0 \n",
    "    \n",
    "Model 2: Omega_m = 0.3\n",
    "    \n",
    "Model 3: Omega_m = 1\n",
    "\n",
    "Make sure you add labels for all the models.\n"
   ]
  },
  {
   "cell_type": "code",
   "execution_count": 20,
   "metadata": {},
   "outputs": [
    {
     "data": {
      "image/png": "[encoded data removed]",
      "text/plain": [
       "<Figure size 432x288 with 1 Axes>"
      ]
     },
     "metadata": {
      "needs_background": "light"
     },
     "output_type": "display_data"
    }
   ],
   "source": [
    "plt.errorbar(df['z'], df['d'],yerr=df['sigma(d)'],label='Data Points')\n",
    "lum_dist_0=vecLumDist(z_ar,Omegam=0)\n",
    "lum_dist_03=vecLumDist(z_ar,Omegam=0.3)\n",
    "lum_dist_1=vecLumDist(z_ar,Omegam=1)\n",
    "plt.plot(z_ar,lum_dist_0,label='$\\Omega_m = 0$')\n",
    "plt.plot(z_ar,lum_dist_03,label='$\\Omega_m = 0.3$')\n",
    "plt.plot(z_ar,lum_dist_1,label='$\\Omega_m = 1$')\n",
    "plt.xlabel('Redshift')\n",
    "plt.ylabel('Luminosity Distance (Mpc)')\n",
    "plt.title('Comparison of Luminosity Distance for Different $\\Omega_m$')\n",
    "plt.legend()\n",
    "plt.grid(True)\n",
    "plt.show()"
   ]
  },
  {
   "cell_type": "markdown",
   "metadata": {
    "collapsed": true,
    "id": "letPuLqnOIvQ"
   },
   "source": [
    "#### Task 8\n",
    "\n",
    "Answer the following questions:\n",
    "\n",
    "1) What are the Omega_DE values for the above models? Which model contains no Dark Energy at all?\n",
    "\n",
    "2) Just judging by eye, which model seems to be the best fit to the data and why?"
   ]
  },
  {
   "cell_type": "markdown",
   "metadata": {},
   "source": [
    "### 1"
   ]
  },
  {
   "cell_type": "markdown",
   "metadata": {},
   "source": [
    "- $\\Omega_{\\text{DE}} = 1 - \\Omega_m$\n",
    "- $\\Omega_{\\text{DE}} = 1$ for $\\Omega_m = 0$\n",
    "- $\\Omega_{\\text{DE}} = 0.7$ for $\\Omega_m = 0.3$\n",
    "- $\\Omega_{\\text{DE}} = 0$ (no dark energy) for $\\Omega_m = 1$"
   ]
  },
  {
   "cell_type": "markdown",
   "metadata": {},
   "source": [
    "## 2"
   ]
  },
  {
   "cell_type": "markdown",
   "metadata": {},
   "source": [
    "$\\Omega_m = 0.3$ is clearly the best model since it is best centred within the error bars for the data\n",
    "points, and also seems to pass through the most amount of error bars"
   ]
  },
  {
   "cell_type": "markdown",
   "metadata": {
    "id": "n_DG9tTqOIvR"
   },
   "source": [
    "#### Task 9\n",
    "\n",
    "It is now time to define a proper function to judge whether these models are good fit to the data. This is done through the $\\chi^2$ function that we mentioned in the \"Fit a line\" notebook.\n",
    "\n",
    "We can use the following function:"
   ]
  },
  {
   "cell_type": "code",
   "execution_count": 21,
   "metadata": {
    "id": "E_g1StzOOIvS"
   },
   "outputs": [],
   "source": [
    "def chi_squared(obs,exp,unc):\n",
    " chi_sq=np.sum((obs-exp)**2/unc**2)\n",
    " return chi_sq"
   ]
  },
  {
   "cell_type": "markdown",
   "metadata": {
    "id": "GbfqYpuwOIvS"
   },
   "source": [
    "Calculate the $\\chi^2$ of the model with Omega_m = 0.3. \n",
    "\n",
    "The task is to understand what vectors to use for x (observed luminosity distances), x_err (uncertainties), and y (luminosity distances predicted by a given model).\n",
    "    "
   ]
  },
  {
   "cell_type": "code",
   "execution_count": 22,
   "metadata": {},
   "outputs": [
    {
     "name": "stdout",
     "output_type": "stream",
     "text": [
      "Chi squared for Omega_m = 0.3: 316.2052793273291\n"
     ]
    }
   ],
   "source": [
    "chi_03=chi_squared(df['d'],vecLumDist(df['z'],Omegam=0.3),df['sigma(d)'])\n",
    "print('Chi squared for Omega_m = 0.3:',chi_03)"
   ]
  },
  {
   "cell_type": "markdown",
   "metadata": {
    "id": "72N3RhRKOIvS"
   },
   "source": [
    "#### Task 10\n",
    "\n",
    "And now the magic begins!\n",
    "\n",
    "Calculate and save the $\\chi^2$ values for different models with values of Omega_m between 0 and 1, spaced every 0.05.\n",
    "\n",
    "Create a scatter plot that has the values of Omega_m on the x axis, and the value of the $\\chi^2$ on the y axis."
   ]
  },
  {
   "cell_type": "code",
   "execution_count": 23,
   "metadata": {},
   "outputs": [
    {
     "data": {
      "text/plain": [
       "<matplotlib.legend.Legend at 0x206df3ab970>"
      ]
     },
     "execution_count": 23,
     "metadata": {},
     "output_type": "execute_result"
    },
    {
     "data": {
      "image/png": "[encoded data removed]",
      "text/plain": [
       "<Figure size 432x288 with 1 Axes>"
      ]
     },
     "metadata": {
      "needs_background": "light"
     },
     "output_type": "display_data"
    }
   ],
   "source": [
    "omega_m=np.array(np.arange(0,1.05,0.05))\n",
    "chi_sq_vals=[]\n",
    "for el in omega_m:\n",
    " lum_dist_model=vecLumDist(df['z'],Omegam=el)\n",
    " chi_sq_val=chi_squared(df['d'],lum_dist_model,df['sigma(d)'])\n",
    " chi_sq_vals.append(chi_sq_val)\n",
    "plt.scatter(omega_m,chi_sq_vals,label='$\\chi^2$ for given $\\Omega _m$')\n",
    "plt.xlabel('$\\Omega _m$')\n",
    "plt.ylabel('$\\chi^2$')\n",
    "plt.title('$\\chi^2$ vs $\\Omega _m$')\n",
    "plt.grid(True)\n",
    "plt.legend()"
   ]
  },
  {
   "cell_type": "markdown",
   "metadata": {
    "id": "-tbRBcXKOIvT"
   },
   "source": [
    "#### Task 11\n",
    "\n",
    "Find the model with the lowest $\\chi^2$ and answer the questions:\n",
    "\n",
    "1. Which value of Omega_m corresponds to this model? \n",
    "\n",
    "2. Which value of Omega_DE corresponds to this model?\n",
    "\n",
    "3. Based on your answers, is a non-zero value of Dark Energy supported by the data?"
   ]
  },
  {
   "cell_type": "code",
   "execution_count": 25,
   "metadata": {},
   "outputs": [],
   "source": [
    "lowest_chi_ind=np.argmin(chi_sq_vals)\n",
    "omega_m_b=omega_m[lowest_chi_ind]"
   ]
  },
  {
   "cell_type": "code",
   "execution_count": 26,
   "metadata": {},
   "outputs": [
    {
     "name": "stdout",
     "output_type": "stream",
     "text": [
      "1: Best Omega_m: 0.15\n",
      "2: Corresponding Omega_DE: 0.85\n"
     ]
    }
   ],
   "source": [
    "print('1: Best Omega_m: %.2f' %omega_m_b)\n",
    "print('2: Corresponding Omega_DE: %.2f'%(1-omega_m_b))"
   ]
  },
  {
   "cell_type": "markdown",
   "metadata": {},
   "source": [
    "3: $\\Omega_{\\text{DE}}$ is the percentage of Dark Energy in the Universe, $\\Omega_{\\text{DE}} = 0.85 > 0 \\Rightarrow$ a non-zero value of Dark Energy supported by the data"
   ]
  }
 ],
 "metadata": {
  "colab": {
   "provenance": []
  },
  "kernelspec": {
   "display_name": "Python 3 (ipykernel)",
   "language": "python",
   "name": "python3"
  },
  "language_info": {
   "codemirror_mode": {
    "name": "ipython",
    "version": 3
   },
   "file_extension": ".py",
   "mimetype": "text/x-python",
   "name": "python",
   "nbconvert_exporter": "python",
   "pygments_lexer": "ipython3",
   "version": "3.9.12"
  }
 },
 "nbformat": 4,
 "nbformat_minor": 1
}
