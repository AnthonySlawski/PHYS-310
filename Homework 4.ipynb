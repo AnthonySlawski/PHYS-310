{
 "cells": [
  {
   "cell_type": "markdown",
   "metadata": {
    "id": "u5IcetVk_9yt"
   },
   "source": [
    "### Homework 4: Discover the Higgs Boson!"
   ]
  },
  {
   "cell_type": "code",
   "execution_count": 1,
   "metadata": {},
   "outputs": [],
   "source": [
    "import numpy as np\n",
    "import matplotlib.pyplot as plt\n",
    "import matplotlib.patches as patches\n",
    "import pandas as pd\n",
    "from sklearn.neighbors import KNeighborsClassifier\n",
    "from sklearn.metrics import accuracy_score\n",
    "from sklearn.tree import DecisionTreeClassifier\n",
    "from sklearn.datasets import load_iris\n",
    "from sklearn.inspection import DecisionBoundaryDisplay\n",
    "from scipy.stats import zscore\n",
    "from sklearn.model_selection import train_test_split\n",
    "from sklearn.preprocessing import RobustScaler\n",
    "from sklearn.neighbors import KNeighborsClassifier\n",
    "from sklearn.pipeline import Pipeline\n",
    "from sklearn.metrics import accuracy_score, precision_score, recall_score\n",
    "from sklearn.model_selection import cross_val_score, StratifiedKFold\n",
    "from sklearn.metrics import make_scorer\n",
    "from sklearn.model_selection import cross_val_predict\n",
    "from sklearn.metrics import confusion_matrix, ConfusionMatrixDisplay\n",
    "from sklearn.model_selection import learning_curve\n",
    "from sklearn.model_selection import cross_validate\n",
    "from sklearn.pipeline import make_pipeline\n",
    "from sklearn.svm import SVC, LinearSVC \n",
    "from sklearn.preprocessing import StandardScaler\n",
    "from sklearn.model_selection import KFold\n",
    "from sklearn import metrics\n",
    "from sklearn.pipeline import make_pipeline\n",
    "from sklearn.model_selection import GridSearchCV\n",
    "\n",
    "plt.rc('font', size=12)\n",
    "plt.rc('axes', titlesize=16)\n",
    "plt.rc('axes', labelsize=14)\n",
    "plt.rc('xtick', labelsize=12)\n",
    "plt.rc('ytick', labelsize=12)\n",
    "plt.rc('legend', fontsize=12)\n",
    "plt.rc('figure', titlesize=18)\n",
    "plt.rc('figure',figsize=(8,6))"
   ]
  },
  {
   "cell_type": "markdown",
   "metadata": {
    "id": "BY_eyfCI_9yw"
   },
   "source": [
    "For this worksheet, we provide you with a (simplified) version of the simulated Higgs boson data challenge, run by Kaggle in 2014. The files are called \"Higgs_features.csv\" and \"Higgs_labels.csv\". The labels are 0 and 1, corresponding to \"no Higgs signal\", and \"Higgs signal\"."
   ]
  },
  {
   "cell_type": "markdown",
   "metadata": {
    "id": "qYaUX_WU_9yw"
   },
   "source": [
    "1\\. Read the data into two numpy arrays or data frames, one for features and one for labels."
   ]
  },
  {
   "cell_type": "code",
   "execution_count": 12,
   "metadata": {},
   "outputs": [],
   "source": [
    "features=pd.read_csv(\"Higgs_features.csv\",header=None)\n",
    "labels=pd.read_csv(\"Higgs_labels.csv\",header=None)"
   ]
  },
  {
   "cell_type": "code",
   "execution_count": 13,
   "metadata": {},
   "outputs": [
    {
     "data": {
      "text/html": [
       "<div>\n",
       "<style scoped>\n",
       "    .dataframe tbody tr th:only-of-type {\n",
       "        vertical-align: middle;\n",
       "    }\n",
       "\n",
       "    .dataframe tbody tr th {\n",
       "        vertical-align: top;\n",
       "    }\n",
       "\n",
       "    .dataframe thead th {\n",
       "        text-align: right;\n",
       "    }\n",
       "</style>\n",
       "<table border=\"1\" class=\"dataframe\">\n",
       "  <thead>\n",
       "    <tr style=\"text-align: right;\">\n",
       "      <th></th>\n",
       "      <th>0</th>\n",
       "      <th>1</th>\n",
       "      <th>2</th>\n",
       "      <th>3</th>\n",
       "      <th>4</th>\n",
       "      <th>5</th>\n",
       "      <th>6</th>\n",
       "      <th>7</th>\n",
       "    </tr>\n",
       "  </thead>\n",
       "  <tbody>\n",
       "    <tr>\n",
       "      <th>0</th>\n",
       "      <td>393.335</td>\n",
       "      <td>79.460</td>\n",
       "      <td>308.879</td>\n",
       "      <td>4.095</td>\n",
       "      <td>1.403</td>\n",
       "      <td>-1.411</td>\n",
       "      <td>49.063</td>\n",
       "      <td>39.478</td>\n",
       "    </tr>\n",
       "    <tr>\n",
       "      <th>1</th>\n",
       "      <td>71.048</td>\n",
       "      <td>29.291</td>\n",
       "      <td>55.602</td>\n",
       "      <td>2.439</td>\n",
       "      <td>1.667</td>\n",
       "      <td>-1.412</td>\n",
       "      <td>22.926</td>\n",
       "      <td>9.486</td>\n",
       "    </tr>\n",
       "    <tr>\n",
       "      <th>2</th>\n",
       "      <td>141.450</td>\n",
       "      <td>87.017</td>\n",
       "      <td>72.091</td>\n",
       "      <td>1.472</td>\n",
       "      <td>4.714</td>\n",
       "      <td>1.233</td>\n",
       "      <td>23.591</td>\n",
       "      <td>69.754</td>\n",
       "    </tr>\n",
       "    <tr>\n",
       "      <th>3</th>\n",
       "      <td>156.539</td>\n",
       "      <td>39.797</td>\n",
       "      <td>127.933</td>\n",
       "      <td>4.017</td>\n",
       "      <td>1.279</td>\n",
       "      <td>-1.408</td>\n",
       "      <td>21.415</td>\n",
       "      <td>18.222</td>\n",
       "    </tr>\n",
       "    <tr>\n",
       "      <th>4</th>\n",
       "      <td>89.639</td>\n",
       "      <td>34.399</td>\n",
       "      <td>66.741</td>\n",
       "      <td>2.934</td>\n",
       "      <td>1.417</td>\n",
       "      <td>-1.377</td>\n",
       "      <td>26.459</td>\n",
       "      <td>8.257</td>\n",
       "    </tr>\n",
       "  </tbody>\n",
       "</table>\n",
       "</div>"
      ],
      "text/plain": [
       "         0       1        2      3      4      5       6       7\n",
       "0  393.335  79.460  308.879  4.095  1.403 -1.411  49.063  39.478\n",
       "1   71.048  29.291   55.602  2.439  1.667 -1.412  22.926   9.486\n",
       "2  141.450  87.017   72.091  1.472  4.714  1.233  23.591  69.754\n",
       "3  156.539  39.797  127.933  4.017  1.279 -1.408  21.415  18.222\n",
       "4   89.639  34.399   66.741  2.934  1.417 -1.377  26.459   8.257"
      ]
     },
     "execution_count": 13,
     "metadata": {},
     "output_type": "execute_result"
    }
   ],
   "source": [
    "features.head()"
   ]
  },
  {
   "cell_type": "code",
   "execution_count": 14,
   "metadata": {},
   "outputs": [
    {
     "data": {
      "text/html": [
       "<div>\n",
       "<style scoped>\n",
       "    .dataframe tbody tr th:only-of-type {\n",
       "        vertical-align: middle;\n",
       "    }\n",
       "\n",
       "    .dataframe tbody tr th {\n",
       "        vertical-align: top;\n",
       "    }\n",
       "\n",
       "    .dataframe thead th {\n",
       "        text-align: right;\n",
       "    }\n",
       "</style>\n",
       "<table border=\"1\" class=\"dataframe\">\n",
       "  <thead>\n",
       "    <tr style=\"text-align: right;\">\n",
       "      <th></th>\n",
       "      <th>0</th>\n",
       "    </tr>\n",
       "  </thead>\n",
       "  <tbody>\n",
       "    <tr>\n",
       "      <th>0</th>\n",
       "      <td>0</td>\n",
       "    </tr>\n",
       "    <tr>\n",
       "      <th>1</th>\n",
       "      <td>0</td>\n",
       "    </tr>\n",
       "    <tr>\n",
       "      <th>2</th>\n",
       "      <td>0</td>\n",
       "    </tr>\n",
       "    <tr>\n",
       "      <th>3</th>\n",
       "      <td>0</td>\n",
       "    </tr>\n",
       "    <tr>\n",
       "      <th>4</th>\n",
       "      <td>0</td>\n",
       "    </tr>\n",
       "  </tbody>\n",
       "</table>\n",
       "</div>"
      ],
      "text/plain": [
       "   0\n",
       "0  0\n",
       "1  0\n",
       "2  0\n",
       "3  0\n",
       "4  0"
      ]
     },
     "execution_count": 14,
     "metadata": {},
     "output_type": "execute_result"
    }
   ],
   "source": [
    "labels.head()"
   ]
  },
  {
   "cell_type": "code",
   "execution_count": 15,
   "metadata": {},
   "outputs": [
    {
     "name": "stdout",
     "output_type": "stream",
     "text": [
      "<class 'pandas.core.frame.DataFrame'>\n",
      "RangeIndex: 25000 entries, 0 to 24999\n",
      "Data columns (total 8 columns):\n",
      " #   Column  Non-Null Count  Dtype  \n",
      "---  ------  --------------  -----  \n",
      " 0   0       25000 non-null  float64\n",
      " 1   1       25000 non-null  float64\n",
      " 2   2       25000 non-null  float64\n",
      " 3   3       25000 non-null  float64\n",
      " 4   4       25000 non-null  float64\n",
      " 5   5       25000 non-null  float64\n",
      " 6   6       25000 non-null  float64\n",
      " 7   7       25000 non-null  float64\n",
      "dtypes: float64(8)\n",
      "memory usage: 1.5 MB\n"
     ]
    }
   ],
   "source": [
    "features.info()"
   ]
  },
  {
   "cell_type": "code",
   "execution_count": 16,
   "metadata": {},
   "outputs": [
    {
     "name": "stdout",
     "output_type": "stream",
     "text": [
      "<class 'pandas.core.frame.DataFrame'>\n",
      "RangeIndex: 25000 entries, 0 to 24999\n",
      "Data columns (total 1 columns):\n",
      " #   Column  Non-Null Count  Dtype\n",
      "---  ------  --------------  -----\n",
      " 0   0       25000 non-null  int64\n",
      "dtypes: int64(1)\n",
      "memory usage: 195.4 KB\n"
     ]
    }
   ],
   "source": [
    "labels.info()"
   ]
  },
  {
   "cell_type": "markdown",
   "metadata": {
    "id": "4DaNSyOh_9yx"
   },
   "source": [
    "2\\. How many instances and features are in this data set?"
   ]
  },
  {
   "cell_type": "code",
   "execution_count": 17,
   "metadata": {},
   "outputs": [
    {
     "name": "stdout",
     "output_type": "stream",
     "text": [
      "Number of instances 25000 Number of features 8\n"
     ]
    }
   ],
   "source": [
    "print('Number of instances',features.shape[0],'Number of features',features.shape[1])"
   ]
  },
  {
   "cell_type": "markdown",
   "metadata": {
    "id": "bkjI5TfW_9yx"
   },
   "source": [
    "3\\. Plot the distribution of each feature for this data set in a histogram, in one plot. Add a legend (with labels \"Feature 1\", \"Feature 2\"...) and set the transparency of the histograms (property \"alpha\") to 0.5 for clarity. Hint: make sure you are plotting each column, not each row!"
   ]
  },
  {
   "cell_type": "code",
   "execution_count": 18,
   "metadata": {},
   "outputs": [
    {
     "data": {
      "text/plain": [
       "<matplotlib.legend.Legend at 0x241c063a580>"
      ]
     },
     "execution_count": 18,
     "metadata": {},
     "output_type": "execute_result"
    },
    {
     "data": {
      "image/png": "[encoded data removed]",
      "text/plain": [
       "<Figure size 576x432 with 1 Axes>"
      ]
     },
     "metadata": {
      "needs_background": "light"
     },
     "output_type": "display_data"
    }
   ],
   "source": [
    "for i in range(features.shape[1]):\n",
    "    plt.hist(features.iloc[:,i],bins=40,alpha=0.5,label=('Feature %d'%(i+1)))\n",
    "plt.title('Distribution of Features')\n",
    "plt.xlabel('Feature Values')\n",
    "plt.ylabel('Frequency')\n",
    "plt.legend()"
   ]
  },
  {
   "cell_type": "markdown",
   "metadata": {
    "id": "RKJvSmCn_9yx"
   },
   "source": [
    "4\\. Do you see anything unusual in the distribution of any of the features? What problem could this cause?"
   ]
  },
  {
   "cell_type": "markdown",
   "metadata": {},
   "source": [
    "#### The feature values generally range from ~0-500, however ~-1000 has a frequency of ~4000, which is a clear outlier. This can introduce bias into the model, the model may give too much importance to these extreme values ???????????????????"
   ]
  },
  {
   "cell_type": "markdown",
   "metadata": {
    "id": "-7o-AIqQ_9yy"
   },
   "source": [
    "5\\. How many positive (Higgs) events does your data set contain? Based on this, is the data set balanced or unbalanced?"
   ]
  },
  {
   "cell_type": "code",
   "execution_count": 19,
   "metadata": {},
   "outputs": [
    {
     "name": "stdout",
     "output_type": "stream",
     "text": [
      "There are 8474 Higgs events out of 25000 events\n"
     ]
    }
   ],
   "source": [
    "print('There are %d Higgs events out of %d events'%((np.sum(labels==1)),len(labels)))"
   ]
  },
  {
   "cell_type": "markdown",
   "metadata": {},
   "source": [
    "#### Based on this, the data set is unbalanced since ~ $\\frac{1}{3}$ of the events are Higgs events, which is relatively far from $\\frac{1}{2}$ events"
   ]
  },
  {
   "cell_type": "markdown",
   "metadata": {
    "id": "NVMmZwaw_9yy"
   },
   "source": [
    "6\\. On the basis of your answer to 5, which evaluation metric (accuracy, precision, recall) would you like to pick for this data set?"
   ]
  },
  {
   "cell_type": "markdown",
   "metadata": {},
   "source": [
    "#### We definitely wouldn't want to use accuracy because of the class imbalance. Assuming the cost of false negatives is high, recall is the best evaluation metric."
   ]
  },
  {
   "cell_type": "markdown",
   "metadata": {
    "id": "lGPrrr1C_9yz"
   },
   "source": [
    "7\\. Use a decision tree classifier as your model, and do five fold cross validation on your data, <b> using the scoring parameter you chose above</b>. Report the mean and standard deviation of the scores obtained for the five folds.\n",
    "\n",
    "Note: If you simply set the parameter \"cv = 5\" in the cross_val_score function, this will divide the data in five sets using the first 20%, second 20%... etc of your data, which is not great if your data are in a specific order. Make sure you use cv = StratifiedKFold(shuffle=True, n_splits=5).\n"
   ]
  },
  {
   "cell_type": "code",
   "execution_count": 20,
   "metadata": {},
   "outputs": [
    {
     "name": "stdout",
     "output_type": "stream",
     "text": [
      "Mean recall over 5 folds: 0.633\n",
      "Standard deviation over 5 folds: 0.018\n"
     ]
    }
   ],
   "source": [
    "model=DecisionTreeClassifier()\n",
    "\n",
    "cv=StratifiedKFold(shuffle=True,n_splits=5)\n",
    "\n",
    "scores=cross_val_score(model,features,labels,cv=cv,scoring='recall')\n",
    "\n",
    "print('Mean recall over 5 folds: %.3f'% scores.mean())\n",
    "print('Standard deviation over 5 folds: %.3f'% scores.std())"
   ]
  },
  {
   "cell_type": "markdown",
   "metadata": {
    "id": "6-E8732Z_9yz"
   },
   "source": [
    "8\\. We want to now take a look at the confusion matrix for your classifier. Generate the predicted label using the \"cross_val_predict\" function, then print the confusion matrix."
   ]
  },
  {
   "cell_type": "code",
   "execution_count": 21,
   "metadata": {},
   "outputs": [
    {
     "data": {
      "text/plain": [
       "<sklearn.metrics._plot.confusion_matrix.ConfusionMatrixDisplay at 0x241c088c9d0>"
      ]
     },
     "execution_count": 21,
     "metadata": {},
     "output_type": "execute_result"
    },
    {
     "data": {
      "image/png": "[encoded data removed]",
      "text/plain": [
       "<Figure size 576x432 with 2 Axes>"
      ]
     },
     "metadata": {
      "needs_background": "light"
     },
     "output_type": "display_data"
    }
   ],
   "source": [
    "predicted_labels=cross_val_predict(model, features, labels, cv=cv)\n",
    "\n",
    "conf=confusion_matrix(labels,predicted_labels)\n",
    "\n",
    "ConfusionMatrixDisplay(conf).plot()"
   ]
  },
  {
   "cell_type": "markdown",
   "metadata": {
    "id": "dDCopstc_9y0"
   },
   "source": [
    "9\\. Given your confusion matrix, how many true positives / true negatives / false positives / false negatives are there? Do you have more type I errors (false positives) than type II errors (false negatives)?"
   ]
  },
  {
   "cell_type": "code",
   "execution_count": 22,
   "metadata": {},
   "outputs": [
    {
     "name": "stdout",
     "output_type": "stream",
     "text": [
      "There are 13387 true negatives, 3139 false positives, 3107 false negatives and 5367 true positives\n",
      "There are more type I errors\n"
     ]
    }
   ],
   "source": [
    "tn,fp,fn,tp=conf[0,0],conf[0,1],conf[1,0],conf[1,1]\n",
    "print('There are %d true negatives, %d false positives, %d false negatives and %d true positives'%(tn,fp,fn,tp))\n",
    "if fp>fn:\n",
    "    print('There are more type I errors')\n",
    "else:\n",
    "    print('There are more type II errors')"
   ]
  },
  {
   "cell_type": "markdown",
   "metadata": {
    "id": "cIVY4Fn5_9y0"
   },
   "source": [
    "10\\. Let's now switch to a SVC classifier. Leaving the parameters of the classifier at their default values, run a five-fold cross validation and report the scores just like you did above for the decision tree. (Note: SVMs are slow so this might take some time, a good 5 minutes. If it takes too long, you can reduce the number of folds to 3). Which algorithm performs better? "
   ]
  },
  {
   "cell_type": "code",
   "execution_count": 23,
   "metadata": {},
   "outputs": [
    {
     "name": "stdout",
     "output_type": "stream",
     "text": [
      "Mean recall over 5 folds: 0.610\n",
      "Standard deviation over 5 folds: 0.010\n"
     ]
    }
   ],
   "source": [
    "svc_model=SVC()\n",
    "flat_labels=labels.values.ravel()\n",
    "svc_scores=cross_val_score(svc_model,features,flat_labels,cv=cv,scoring='recall')\n",
    "print('Mean recall over 5 folds: %.3f'% svc_scores.mean())\n",
    "print('Standard deviation over 5 folds: %.3f'% svc_scores.std())"
   ]
  },
  {
   "cell_type": "markdown",
   "metadata": {
    "id": "MRITwfuP_9y0"
   },
   "source": [
    "11\\. Report the confusion matrix for the SVC algorithm. Do you notice a change in the distribution of the false positives and false negatives, with respect to the decision tree algorithm?"
   ]
  },
  {
   "cell_type": "code",
   "execution_count": 24,
   "metadata": {},
   "outputs": [
    {
     "data": {
      "text/plain": [
       "<sklearn.metrics._plot.confusion_matrix.ConfusionMatrixDisplay at 0x241c2da84f0>"
      ]
     },
     "execution_count": 24,
     "metadata": {},
     "output_type": "execute_result"
    },
    {
     "data": {
      "image/png": "[encoded data removed]",
      "text/plain": [
       "<Figure size 576x432 with 2 Axes>"
      ]
     },
     "metadata": {
      "needs_background": "light"
     },
     "output_type": "display_data"
    }
   ],
   "source": [
    "predicted_labels=cross_val_predict(svc_model, features, flat_labels, cv=cv)\n",
    "\n",
    "svc_conf=confusion_matrix(flat_labels,predicted_labels)\n",
    "\n",
    "ConfusionMatrixDisplay(svc_conf).plot()"
   ]
  },
  {
   "cell_type": "code",
   "execution_count": 25,
   "metadata": {},
   "outputs": [
    {
     "name": "stdout",
     "output_type": "stream",
     "text": [
      "There are 14581 true negatives, 1945 false positives, 3291 false negatives and 5183 true positives\n",
      "There are more type II errors\n"
     ]
    }
   ],
   "source": [
    "tn,fp,fn,tp=svc_conf[0,0],svc_conf[0,1],svc_conf[1,0],svc_conf[1,1]\n",
    "print('There are %d true negatives, %d false positives, %d false negatives and %d true positives'%(tn,fp,fn,tp))\n",
    "if fp>fn:\n",
    "    print('There are more type I errors')\n",
    "else:\n",
    "    print('There are more type II errors')"
   ]
  },
  {
   "cell_type": "markdown",
   "metadata": {},
   "source": [
    "#### There are more type II errors, meaning there are more false negatives than false positives. This is not the correct direction as we would rather have more false positives"
   ]
  },
  {
   "cell_type": "markdown",
   "metadata": {
    "id": "N3RYFnQM_9y1"
   },
   "source": [
    "12\\. We can now try to optimize the parameters of the SVC. Because it would otherwise take a long time, we can select the first 5% of the data set (after shuffling the data set). \n",
    "\n",
    "You can do it using the code below, but you need to change the original array names for features and targets to match yours. You will then produce the two arrays \"Xlittle, ylittle\"."
   ]
  },
  {
   "cell_type": "code",
   "execution_count": 26,
   "metadata": {
    "id": "ajnSPCFK_9y1"
   },
   "outputs": [
    {
     "data": {
      "text/plain": [
       "(1250, 8)"
      ]
     },
     "execution_count": 26,
     "metadata": {},
     "output_type": "execute_result"
    }
   ],
   "source": [
    "from sklearn.utils import shuffle\n",
    "\n",
    "ftrs, trgt = shuffle(features.values, flat_labels, random_state = 13)\n",
    "\n",
    "number_samples = ftrs.shape[0]\n",
    "\n",
    "Xlittle, ylittle = ftrs[:int(number_samples*0.05),:], trgt[:int(number_samples*0.05)]\n",
    "\n",
    "Xlittle.shape #check that everything went as expected"
   ]
  },
  {
   "cell_type": "markdown",
   "metadata": {
    "id": "tiZZgRte_9y2"
   },
   "source": [
    "13\\. Set up and run a GridSearch CV with the following parameters: \n",
    "\n",
    "parameters = {'kernel':['linear','rbf'],'C':[1, 10, 100], 'gamma':[0.01, 0.1, 0.5], 'class_weight':[{1:1},{1:3},{1:5}]}\n",
    "\n",
    "You can use the code from Lab 8 notebook, but remember to change the scoring parameter to match what you did above.\n",
    "\n",
    "Note: this might take time! Set verbose = 2 in the GridSearchCV to follow the progress, and set njobs = 4 or more to speed up the process. \n",
    "\n",
    "#### Report the scores and parameters values of the best model."
   ]
  },
  {
   "cell_type": "code",
   "execution_count": 27,
   "metadata": {},
   "outputs": [
    {
     "name": "stdout",
     "output_type": "stream",
     "text": [
      "Fitting 5 folds for each of 54 candidates, totalling 270 fits\n",
      "Best params, best recall score: 0.9787 {'C': 1, 'class_weight': {1: 5}, 'gamma': 0.01, 'kernel': 'linear'}\n"
     ]
    }
   ],
   "source": [
    "parameters = {'kernel':['linear','rbf'],'C':[1, 10, 100], 'gamma':[0.01, 0.1, 0.5], 'class_weight':[{1:1},{1:3},{1:5}]}\n",
    "nmodels = np.product([len(el) for el in parameters.values()])\n",
    "model = GridSearchCV(svc_model, parameters, cv = StratifiedKFold(n_splits=5, shuffle=True), \\\n",
    "                     verbose = 2, n_jobs =-1, scoring='recall',return_train_score=True)\n",
    "model.fit(Xlittle,ylittle)\n",
    "\n",
    "print('Best params, best recall score:', \"{:.4f}\".format(model.best_score_), \\\n",
    "      model.best_params_)"
   ]
  },
  {
   "cell_type": "markdown",
   "metadata": {},
   "source": [
    "#### I tried using n_jobs=4 but it took 1.5 hours for my code to run, so I changed it to n_jobs=-1 so that it could take a reasonable amount of time to run."
   ]
  },
  {
   "cell_type": "markdown",
   "metadata": {
    "id": "IE1Gl40x_9y3"
   },
   "source": [
    "14\\. Based on what you found, would you recommend to use a Decision Tree Classifier or a Support Vector Classifier for this problem?"
   ]
  },
  {
   "cell_type": "markdown",
   "metadata": {
    "collapsed": true,
    "id": "jIgtP4jW_9y3"
   },
   "source": [
    "#### The Support Vector Classifier has a much higher recall, so I would use that, although it does take much longer to run."
   ]
  }
 ],
 "metadata": {
  "colab": {
   "provenance": []
  },
  "kernelspec": {
   "display_name": "Python 3 (ipykernel)",
   "language": "python",
   "name": "python3"
  },
  "language_info": {
   "codemirror_mode": {
    "name": "ipython",
    "version": 3
   },
   "file_extension": ".py",
   "mimetype": "text/x-python",
   "name": "python",
   "nbconvert_exporter": "python",
   "pygments_lexer": "ipython3",
   "version": "3.9.12"
  }
 },
 "nbformat": 4,
 "nbformat_minor": 1
}
