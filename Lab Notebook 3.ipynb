{
 "cells": [
  {
   "cell_type": "markdown",
   "id": "6ca50eaf",
   "metadata": {},
   "source": [
    "# Lab Notebook 3 - kNN algorithm\n",
    "\n",
    "In this exercise, we will code a kNN algorithm from scratch, and then compare its performance to a pre-written routine."
   ]
  },
  {
   "cell_type": "markdown",
   "id": "44e49acc",
   "metadata": {},
   "source": [
    "# Part 1: Organize data\n",
    "\n",
    "Import numpy, matplotlib, matplotlib.pyplot, matplotlib.patches, pandas, sklearn, and neighbors and metrics from sklearn. Set the rc parameters that you'd like to use for all your figures."
   ]
  },
  {
   "cell_type": "code",
   "execution_count": 12,
   "id": "d81841a7",
   "metadata": {},
   "outputs": [],
   "source": [
    "import numpy as np\n",
    "import matplotlib.pyplot as plt\n",
    "import matplotlib.patches as mpatches\n",
    "import pandas as pd\n",
    "from sklearn import neighbors, metrics\n",
    "from sklearn.preprocessing import StandardScaler\n",
    "from collections import Counter\n",
    "\n",
    "\n",
    "plt.rc('font', size=15)\n",
    "plt.rc('axes', titlesize=16)\n",
    "plt.rc('axes', labelsize=14)\n",
    "plt.rc('xtick', labelsize=12)\n",
    "plt.rc('ytick', labelsize=12)\n",
    "plt.rc('legend', fontsize=12)\n",
    "plt.rc('figure', titlesize=16)\n",
    "plt.rc('figure',figsize=(8,6))"
   ]
  },
  {
   "cell_type": "markdown",
   "id": "588be4b9",
   "metadata": {},
   "source": [
    "## Step 1.2\n",
    "\n",
    "Our learning set 'HPLearningSet.csv' comes in csv (comma separated values) format and that is most conveniently read using the pandas library.\n",
    "\n",
    "Read it to the data frame \"LearningSet\". Since the first column is just an index, drop it using LearningSet.drop. You will need to specify the column to be dropped and the axis.\n",
    "\n",
    "Visually inspect the learnign set by printing it."
   ]
  },
  {
   "cell_type": "code",
   "execution_count": 13,
   "id": "97cceb3e",
   "metadata": {},
   "outputs": [
    {
     "name": "stdout",
     "output_type": "stream",
     "text": [
      "                P_NAME  S_MASS     P_PERIOD  P_DISTANCE  P_HABITABLE\n",
      "0         Kepler-736 b    0.86     3.601472    0.043718            0\n",
      "1         Kepler-636 b    0.85    16.080661    0.118082            0\n",
      "2         Kepler-887 c    1.19     7.638460    0.080420            0\n",
      "3         Kepler-442 b    0.61   112.305300    0.409327            1\n",
      "4         Kepler-772 b    0.98    12.992073    0.107408            0\n",
      "5   Teegarden's Star b    0.09     4.910000    0.025200            1\n",
      "6             K2-116 b    0.69     4.655411    0.048086            0\n",
      "7            GJ 1061 c    0.12     6.689000    0.035000            1\n",
      "8           HD 68402 b    1.12  1103.000000    2.180981            0\n",
      "9        Kepler-1544 b    0.81   168.811170    0.557107            1\n",
      "10        Kepler-296 e    0.50    34.142110    0.178202            1\n",
      "11        Kepler-705 b    0.53    56.056054    0.231926            1\n",
      "12        Kepler-445 c    0.18     4.871229    0.031746            0\n",
      "13         HD 104067 b    0.62    55.806000    0.260000            0\n",
      "14           GJ 4276 b    0.41    13.352000    0.087613            0\n",
      "15        Kepler-296 f    0.50    63.336270    0.268885            1\n",
      "16         Kepler-63 b    0.98     9.434150    0.088100            0\n",
      "17           GJ 3293 d    0.42    48.134500    0.195336            1\n"
     ]
    }
   ],
   "source": [
    "# Import csv with panda\n",
    "LearningSet = pd.read_csv('HPLearningSet.csv')\n",
    "\n",
    "# Drop Column 1\n",
    "LearningSet = LearningSet.drop(LearningSet.columns[0], axis=1)\n",
    "\n",
    "print(LearningSet)"
   ]
  },
  {
   "cell_type": "markdown",
   "id": "88b0da8c",
   "metadata": {},
   "source": [
    "## Step 1.3\n",
    "\n",
    "Use the first 13 data entries as the training set, and the following 5 entries as the test set. To do so, use \"iloc\":\n",
    "\n",
    "Define \"Xtrain\" and \"Xtest\". They contain the stellar mass, period, and distance of each data point in the training set and test set, respectively.\n",
    "\n",
    "Define \"ytrain\" and \"ytest\". They should only contain the P_HABITABLE information."
   ]
  },
  {
   "cell_type": "code",
   "execution_count": 14,
   "id": "9ef1a512",
   "metadata": {},
   "outputs": [],
   "source": [
    "Xtrain = LearningSet.iloc[:13,1:4]\n",
    "Xtest = LearningSet.iloc[13:,1:4]\n",
    "\n",
    "ytrain = LearningSet.iloc[:13,4]\n",
    "ytest = LearningSet.iloc[13:,4]"
   ]
  },
  {
   "cell_type": "markdown",
   "id": "a2ea010b",
   "metadata": {},
   "source": [
    "\n",
    "# Part 2: Use the kNN algorithm from sklearn"
   ]
  },
  {
   "cell_type": "markdown",
   "id": "142c8e6a",
   "metadata": {},
   "source": [
    "## Step 2.1: Train and classify\n",
    "\n",
    "Define a model by using the KNeighborsClassifier with 3 neighbors. For the moment we're only going to use 2 features from the data set to build this model, so use iloc from pandas to remove all features *besides* S_MASS and P_PERIOD.\n",
    "\n",
    "First, train the model, predict the \"Habitable\" label for the test set and compare the prediction to the actual labels. Are the predicted values correct?\n",
    "\n",
    "We can also look at the accuracy of the prediction. Use metrics.accuracy_score...\n",
    "\n",
    "1) ... between the y training values and the model's y prediction using the x training values\n",
    "\n",
    "2) ... between the y testing values and the model's y prediction using the x testing values"
   ]
  },
  {
   "cell_type": "code",
   "execution_count": 15,
   "id": "2f032a7d",
   "metadata": {},
   "outputs": [
    {
     "name": "stdout",
     "output_type": "stream",
     "text": [
      "Prediction: [1 0 1 0 1]\n",
      "Actual: [0, 0, 1, 0, 1]\n",
      "Almost correct, only the first value differs\n",
      "Test score: 0.8\n",
      "Train score: 0.6923076923076923\n"
     ]
    }
   ],
   "source": [
    "model = neighbors.KNeighborsClassifier(n_neighbors=3)\n",
    "\n",
    "# Drop all features besides S_MASS and P_PERIOD\n",
    "Xtrain_2 = Xtrain.iloc[:,:2]\n",
    "Xtest_2 = Xtest.iloc[:,:2]\n",
    "\n",
    "# Fit the model\n",
    "model.fit(Xtrain_2, ytrain)\n",
    "\n",
    "# Predict 'Habitable'\n",
    "y_pred_test_kNN = model.predict(Xtest_2)\n",
    "y_pred_train_kNN = model.predict(Xtrain_2)\n",
    "\n",
    "print(\"Prediction:\", y_pred_test_kNN)\n",
    "print(\"Actual:\" ,list(ytest)) \n",
    "print(\"Almost correct, only the first value differs\")\n",
    "\n",
    "# Accuracy Determination\n",
    "from sklearn.metrics import accuracy_score\n",
    "\n",
    "test_score = accuracy_score(ytest,y_pred_test_kNN)\n",
    "print(\"Test score:\",test_score)\n",
    "\n",
    "train_score = accuracy_score(ytrain,y_pred_train_kNN)\n",
    "print(\"Train score:\",train_score)"
   ]
  },
  {
   "cell_type": "markdown",
   "id": "fc357e9f",
   "metadata": {},
   "source": [
    "## Step 2.2: Visualize the results\n",
    "\n",
    "With just two features, it is possible to visualize the data set in two dimensions. scikit learn has a useful routine called \"DecisionBoundaryDisplay\", which plots the separation between the two classes in the dataset. \n",
    "\n",
    "Import this function from sklearn.inspection use the \"from_estimator\" method to plot the decision boundary for your kNN classifier. . Then add a scatter plot of your dataset and assign a different colour to each of your two classes and a different symbol for test and train set. Make sure to add a legend."
   ]
  },
  {
   "cell_type": "code",
   "execution_count": 16,
   "id": "289284cb",
   "metadata": {},
   "outputs": [
    {
     "data": {
      "image/png": "[encoded data removed]",
      "text/plain": [
       "<Figure size 576x432 with 1 Axes>"
      ]
     },
     "metadata": {
      "needs_background": "light"
     },
     "output_type": "display_data"
    }
   ],
   "source": [
    "from sklearn.inspection import DecisionBoundaryDisplay\n",
    "\n",
    "disp = DecisionBoundaryDisplay.from_estimator(model, Xtrain_2, response_method=\"predict\")\n",
    "\n",
    "# Create scatter plots\n",
    "plt.scatter(Xtrain_2.iloc[:, 0], Xtrain_2.iloc[:, 1], marker='o', label='Train Set')\n",
    "plt.scatter(Xtest_2.iloc[:, 0], Xtest_2.iloc[:, 1], marker='x', label='Test Set')\n",
    "\n",
    "plt.legend()\n",
    "plt.show()"
   ]
  },
  {
   "cell_type": "markdown",
   "id": "1f1dc6f1",
   "metadata": {},
   "source": [
    "#### The period is ~2 orders of magnitude greater than the mass, take the log to see the changes clearer"
   ]
  },
  {
   "cell_type": "code",
   "execution_count": 17,
   "id": "ad3ee736",
   "metadata": {},
   "outputs": [
    {
     "data": {
      "image/png": "[encoded data removed]",
      "text/plain": [
       "<Figure size 576x432 with 1 Axes>"
      ]
     },
     "metadata": {
      "needs_background": "light"
     },
     "output_type": "display_data"
    }
   ],
   "source": [
    "X_train_red_log=Xtrain_2.copy()\n",
    "X_test_red_log=Xtest_2.copy()\n",
    "X_train_red_log.values[:,1]=np.log(X_train_red_log.values[:,1])\n",
    "X_test_red_log.values[:,1]=np.log(X_test_red_log.values[:,1])\n",
    "DBD=DecisionBoundaryDisplay.from_estimator(model,X_train_red_log,response_method='predict')\n",
    "plt.scatter(X_train_red_log.values[:,0],X_train_red_log.values[:,1],label='Train Set')\n",
    "plt.scatter(X_test_red_log.values[:,0],X_test_red_log.values[:,1],label='Train Test')\n",
    "plt.legend()\n",
    "plt.show()"
   ]
  },
  {
   "cell_type": "markdown",
   "id": "0d34abfc",
   "metadata": {},
   "source": [
    "# Part 3: Write your own kNN algorithm"
   ]
  },
  {
   "cell_type": "markdown",
   "id": "5214e425",
   "metadata": {},
   "source": [
    "## Step 3.1\n",
    "\n",
    "1) Import StandardScaler from sklearn. StandardScalar standardizes features by removing the mean and scaling to unit variance. \n",
    "\n",
    "2) Next, we will pre-process the data. Define a model (\"own_model\") by running StandardScaler().fit on the x training data. Use \"transform\" on both the x training data and x testing data to change the format into a numpy array.\n"
   ]
  },
  {
   "cell_type": "code",
   "execution_count": 18,
   "id": "ab7c2fc3",
   "metadata": {},
   "outputs": [],
   "source": [
    "scaler = StandardScaler()\n",
    "own_model = scaler.fit(Xtrain_2)\n",
    "\n",
    "Xtrain_2_scaled = own_model.transform(Xtrain_2)\n",
    "Xtest_2_scaled = own_model.transform(Xtest_2)"
   ]
  },
  {
   "cell_type": "markdown",
   "id": "c6ed6b76",
   "metadata": {},
   "source": [
    "## Step 3.2\n",
    "\n",
    "Define two functions:\n",
    "\n",
    "1) Define the function \"most_common\", which takes \"data\" as input. It returns the most common value in a list of values given by \"data\".\n",
    "2) Define the function \"euclidean\", which takes \"point\" and \"data\" as input. It returns the euclidean distance between \"point\" and all components of \"data\"."
   ]
  },
  {
   "cell_type": "code",
   "execution_count": 19,
   "id": "fdd5eab7",
   "metadata": {},
   "outputs": [],
   "source": [
    "def most_common(data):\n",
    "    counter = Counter(data)\n",
    "    most_common_value = counter.most_common(1)[0][0]\n",
    "    return most_common_value\n",
    "\n",
    "def euclidean(point,data):\n",
    "    return np.sqrt(np.sum((data-point)**2))"
   ]
  },
  {
   "cell_type": "markdown",
   "id": "69ef82d8",
   "metadata": {},
   "source": [
    "## Step 3.3\n",
    "\n",
    "What comes next is that we're going to iterate over each possible value of *k* in the array of *k*'s. For each value of k, we will create a kNN classifier, fit it with the training data, and evaluate it on the test data. We will then check the accuracy of our model.\n",
    "\n",
    "1) First, define a class called \"KNeighborsClassifier\". \n",
    "\n",
    "2) Within KNeighborsClassifier, define the constructor \"**\\_\\_init__**\". (\\_\\_init__ must be called when a new instance of a class is created. It allows you to initialize the variables of an object.) It takes as arguements: self, k, and dist_metric. Set the default value of k to be 5, and the default value of dist_metric to be euclidean. \n",
    "\n",
    "3) Within **\\_\\_init__**, let self.k = k and self.dist_metric = dist_metric.\n",
    "\n",
    "The class KNeighborsClassifier will contain 3 other \"class methods\": fit, predict, and evaluate.\n",
    "\n",
    "4) Define the method \"**fit**\". Let it take self, Xtrain, and ytrain as inputs. Within fit, let self.Xtrain = Xtrain and self.ytrain = ytrain.\n",
    "\n",
    "5) Define the method \"**predict**\". Let it take self and Xtest as inputs. \n",
    "\n",
    "This method is the core part of the class, the part that actually does the kNN computation. Within predict, first initialize an empty list called \"neighbours\". Then implement the pseudocode of kNN:\n",
    "\n",
    "for all test partices:\n",
    "    \n",
    "    compute all distances between test and training particles using the previously defined distance metric function\n",
    "    \n",
    "    sort the list of distances and from that list create a sorted list of target labels. There are several possibilities to code this, no need to look for the most efficient one.\n",
    "    \n",
    "    out of this sorted target list, select the top k entries and append to the list \"neighbours\"\n",
    "    \n",
    "    after you have created this list of neighbors for all test particles, use the previously defined function \"most_common\" to determine the classification label for the test particles, and make predict return that list. The python \"map\" construct lets you apply a function to a list of arguments.\n",
    "\n",
    "\n",
    "6) Define the method \"**evaluate**\". Let it take as input: self, Xtest, and ytest. Within evaluate, let y_pred (the predicted y values) be the result of running self.predict on Xtest. Define \"accuracy\" as the sum of y_pred being equal to ytest (hint: use the equality operator, ==), and this sum is divided by the number of ytest values. Return the accuracy."
   ]
  },
  {
   "cell_type": "code",
   "execution_count": 20,
   "id": "da49325f",
   "metadata": {},
   "outputs": [],
   "source": [
    "class KNeighborsClassifier:\n",
    "    \n",
    "    def __init__(self, k=5, dist_metric=euclidean):\n",
    "        self.k = k\n",
    "        self.dist_metric = dist_metric\n",
    "        \n",
    "    def fit(self, Xtrain, ytrain):\n",
    "        self.Xtrain = Xtrain\n",
    "        self.ytrain = ytrain\n",
    "        \n",
    "    def predict(self, Xtest):\n",
    "        \n",
    "        neighbours = []\n",
    "        for test_point in Xtest:\n",
    "\n",
    "            distances = [self.dist_metric(test_point, train_point) for train_point in self.Xtrain]\n",
    "            \n",
    "            sort = sorted(zip(distances, self.ytrain))\n",
    "            sort_labels = np.array(sort)[:,1]\n",
    "            top_k = sort_labels[:self.k]\n",
    "            neighbours.append(top_k)\n",
    "            \n",
    "        pred = list(map(most_common, neighbours))\n",
    "   \n",
    "        return pred\n",
    "    \n",
    "    def evaluate(self, Xtest, ytest):\n",
    "        y_pred = self.predict(Xtest)\n",
    "        accuracy = np.sum(y_pred == ytest)/len(ytest)\n",
    "        return accuracy           \n",
    "            "
   ]
  },
  {
   "cell_type": "markdown",
   "id": "5c89c021",
   "metadata": {},
   "source": [
    "## Step 3.4\n",
    "\n",
    "We don't know how many nearest neighbours are ideal to use for our data set. Therefore, we will try with an unknown integer *k* of nearest neighbours. Define an array of *k*'s ranging from 1 to 13 (there cannot be more neighbors than instances in the training set. Why?).\n",
    "\n",
    "Now let's test our model for each value of k.\n",
    "\n",
    "Within this loop, let knn be the result of calling KNeighborsClassifier with k equals the current k-value. Next, run \"fit\" on knn, using the x and y training data.\n",
    "\n",
    "As in step 2.1 compare the predicted labels to the actual labels by printing them side by side for each value of k\n",
    "\n",
    "Compute the accuracy as the result of calling knn.evaluate using the x and y test data as input and append the result to a list \"accuracies\" that you initialized as an empty list beforehand.\n",
    "\n",
    "For the same values of k, perform the classification with the sklean provided classifier that you used in part 2, and also record the accuracies in a separate array \"accuracies_sklearn\"."
   ]
  },
  {
   "cell_type": "markdown",
   "id": "6a5627c8",
   "metadata": {},
   "source": [
    "#### There can't be more neighbors than instances otherwise there wont be enough neighbors"
   ]
  },
  {
   "cell_type": "code",
   "execution_count": 21,
   "id": "bd9cb50a",
   "metadata": {},
   "outputs": [
    {
     "name": "stdout",
     "output_type": "stream",
     "text": [
      "k= 1 Actual: [0 0 1 0 1] Predicted: [1.0, 1.0, 1.0, 0.0, 1.0]\n",
      "k= 2 Actual: [0 0 1 0 1] Predicted: [1.0, 1.0, 1.0, 0.0, 1.0]\n",
      "k= 3 Actual: [0 0 1 0 1] Predicted: [1.0, 1.0, 1.0, 0.0, 1.0]\n",
      "k= 4 Actual: [0 0 1 0 1] Predicted: [1.0, 1.0, 1.0, 0.0, 1.0]\n",
      "k= 5 Actual: [0 0 1 0 1] Predicted: [1.0, 1.0, 1.0, 0.0, 1.0]\n",
      "k= 6 Actual: [0 0 1 0 1] Predicted: [1.0, 1.0, 1.0, 0.0, 1.0]\n",
      "k= 7 Actual: [0 0 1 0 1] Predicted: [1.0, 1.0, 1.0, 0.0, 1.0]\n",
      "k= 8 Actual: [0 0 1 0 1] Predicted: [1.0, 1.0, 1.0, 0.0, 1.0]\n",
      "k= 9 Actual: [0 0 1 0 1] Predicted: [0.0, 1.0, 1.0, 0.0, 1.0]\n",
      "k= 10 Actual: [0 0 1 0 1] Predicted: [1.0, 1.0, 1.0, 0.0, 1.0]\n",
      "k= 11 Actual: [0 0 1 0 1] Predicted: [1.0, 1.0, 1.0, 0.0, 1.0]\n",
      "k= 12 Actual: [0 0 1 0 1] Predicted: [1.0, 1.0, 1.0, 0.0, 1.0]\n",
      "k= 13 Actual: [0 0 1 0 1] Predicted: [0.0, 0.0, 0.0, 0.0, 0.0]\n"
     ]
    }
   ],
   "source": [
    "k_values = np.arange(1,14)\n",
    "\n",
    "accuracies = []\n",
    "accuracies_sklearn = []\n",
    "\n",
    "for i in k_values:\n",
    "    \n",
    "    # My own model\n",
    "    knn = KNeighborsClassifier(k=i)\n",
    "    knn.fit(Xtrain_2_scaled,ytrain)\n",
    "    \n",
    "    y_pred_class = knn.predict(Xtest_2_scaled)\n",
    "    print(\"k=\",i,\"Actual:\",np.array(ytest), \"Predicted:\",y_pred_class )\n",
    "    \n",
    "    accuracies.append(knn.evaluate(Xtest_2_scaled,ytest))\n",
    "    \n",
    "    # Sklearn\n",
    "    model = neighbors.KNeighborsClassifier(n_neighbors=i)\n",
    "    model.fit(Xtrain_2_scaled, ytrain)\n",
    "    y_pred_sk = model.predict(Xtest_2_scaled)\n",
    "    test_score = accuracy_score(ytest,y_pred_sk)\n",
    "    \n",
    "    accuracies_sklearn.append(test_score)  \n",
    "  "
   ]
  },
  {
   "cell_type": "markdown",
   "id": "e5953df1",
   "metadata": {},
   "source": [
    "## Step 3.5\n",
    "\n",
    "Finally, we're going to visualize the performance of our kNN algorithm. Plot the values of k on the x-axis and the accuracies for both your own code and the one from sklearn on the y-axis. Add a descriptive title. Save and show the figure. Does the two codes agree? What value(s) of k are best and what is the maximum accuracy achieved? "
   ]
  },
  {
   "cell_type": "code",
   "execution_count": 22,
   "id": "54efafbd",
   "metadata": {
    "scrolled": false
   },
   "outputs": [
    {
     "data": {
      "image/png": "[encoded data removed]",
      "text/plain": [
       "<Figure size 576x432 with 1 Axes>"
      ]
     },
     "metadata": {
      "needs_background": "light"
     },
     "output_type": "display_data"
    }
   ],
   "source": [
    "plt.scatter(k_values, accuracies, marker='o',s=60, label='Own kNN Algorithm')\n",
    "plt.scatter(k_values, accuracies_sklearn, marker='x', label='Scikit-learn kNN Implementation')\n",
    "plt.xlabel('k (Number of Neighbors)')\n",
    "plt.ylabel('Accuracy')\n",
    "plt.title('Own vs sklearn kNN Algorithm')\n",
    "plt.legend()\n",
    "\n",
    "#plt.savefig('knn_comparison.png') #-> to save the plot\n",
    "plt.show()"
   ]
  },
  {
   "cell_type": "markdown",
   "id": "0fe44c64",
   "metadata": {},
   "source": [
    "##### The two codes mostly agree, except for only at k=10. The values of k that are best are 1-8, and 11,12 with the maximum accuracy standing at 0.6."
   ]
  }
 ],
 "metadata": {
  "kernelspec": {
   "display_name": "Python 3 (ipykernel)",
   "language": "python",
   "name": "python3"
  },
  "language_info": {
   "codemirror_mode": {
    "name": "ipython",
    "version": 3
   },
   "file_extension": ".py",
   "mimetype": "text/x-python",
   "name": "python",
   "nbconvert_exporter": "python",
   "pygments_lexer": "ipython3",
   "version": "3.9.12"
  }
 },
 "nbformat": 4,
 "nbformat_minor": 5
}
